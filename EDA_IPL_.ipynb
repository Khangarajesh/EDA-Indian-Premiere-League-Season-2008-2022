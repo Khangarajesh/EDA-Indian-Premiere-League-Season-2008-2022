{
  "nbformat": 4,
  "nbformat_minor": 0,
  "metadata": {
    "colab": {
      "provenance": [],
      "mount_file_id": "1SiF3PwAc7-ql-JD--23O6w7t7Y-k156r",
      "authorship_tag": "ABX9TyO9xDODakRUl/wJ5MPMhkxY",
      "include_colab_link": true
    },
    "kernelspec": {
      "name": "python3",
      "display_name": "Python 3"
    },
    "language_info": {
      "name": "python"
    }
  },
  "cells": [
    {
      "cell_type": "markdown",
      "metadata": {
        "id": "view-in-github",
        "colab_type": "text"
      },
      "source": [
        "<a href=\"https://colab.research.google.com/github/Khangarajesh/EDA-Indian-Premiere-League-Season-2008-2022/blob/main/EDA_IPL_.ipynb\" target=\"_parent\"><img src=\"https://colab.research.google.com/assets/colab-badge.svg\" alt=\"Open In Colab\"/></a>"
      ]
    },
    {
      "cell_type": "code",
      "execution_count": 1,
      "metadata": {
        "id": "-85pf7z_lQYu"
      },
      "outputs": [],
      "source": [
        "import pandas as pd \n",
        "import numpy as np\n",
        "import matplotlib.pyplot as plt"
      ]
    },
    {
      "cell_type": "code",
      "source": [
        "pd.set_option('display.max_rows', 700)\n",
        "pd.set_option('display.max_columns', 500)\n",
        "pd.set_option('display.width', 1000)"
      ],
      "metadata": {
        "id": "AJNz-e5Alder"
      },
      "execution_count": 2,
      "outputs": []
    },
    {
      "cell_type": "code",
      "source": [
        "ipl=pd.read_csv(\"/content/drive/MyDrive/campus x /numpy,pandas/week7/session 20 Pandas Merge/session 20 task/IPL_Matches_2008_2022.csv\")"
      ],
      "metadata": {
        "id": "AxW96y52mcLQ"
      },
      "execution_count": 3,
      "outputs": []
    },
    {
      "cell_type": "code",
      "source": [
        "ipl.info()"
      ],
      "metadata": {
        "colab": {
          "base_uri": "https://localhost:8080/"
        },
        "id": "rWpgEoznnK_P",
        "outputId": "598717e3-52ac-4ed4-af40-6622396d48d1"
      },
      "execution_count": 4,
      "outputs": [
        {
          "output_type": "stream",
          "name": "stdout",
          "text": [
            "<class 'pandas.core.frame.DataFrame'>\n",
            "RangeIndex: 950 entries, 0 to 949\n",
            "Data columns (total 20 columns):\n",
            " #   Column           Non-Null Count  Dtype  \n",
            "---  ------           --------------  -----  \n",
            " 0   ID               950 non-null    int64  \n",
            " 1   City             899 non-null    object \n",
            " 2   Date             950 non-null    object \n",
            " 3   Season           950 non-null    object \n",
            " 4   MatchNumber      950 non-null    object \n",
            " 5   Team1            950 non-null    object \n",
            " 6   Team2            950 non-null    object \n",
            " 7   Venue            950 non-null    object \n",
            " 8   TossWinner       950 non-null    object \n",
            " 9   TossDecision     950 non-null    object \n",
            " 10  SuperOver        946 non-null    object \n",
            " 11  WinningTeam      946 non-null    object \n",
            " 12  WonBy            950 non-null    object \n",
            " 13  Margin           932 non-null    float64\n",
            " 14  method           19 non-null     object \n",
            " 15  Player_of_Match  946 non-null    object \n",
            " 16  Team1Players     950 non-null    object \n",
            " 17  Team2Players     950 non-null    object \n",
            " 18  Umpire1          950 non-null    object \n",
            " 19  Umpire2          950 non-null    object \n",
            "dtypes: float64(1), int64(1), object(18)\n",
            "memory usage: 148.6+ KB\n"
          ]
        }
      ]
    },
    {
      "cell_type": "code",
      "source": [
        "ipl.head()"
      ],
      "metadata": {
        "colab": {
          "base_uri": "https://localhost:8080/",
          "height": 565
        },
        "id": "Glja_P9AnMg6",
        "outputId": "ff4327f8-73d2-4501-8da0-07626fbaf6a9"
      },
      "execution_count": 5,
      "outputs": [
        {
          "output_type": "execute_result",
          "data": {
            "text/plain": [
              "        ID       City        Date Season  MatchNumber                        Team1                 Team2                             Venue            TossWinner TossDecision SuperOver                  WinningTeam    WonBy  Margin method Player_of_Match                                       Team1Players                                       Team2Players        Umpire1        Umpire2\n",
              "0  1312200  Ahmedabad  2022-05-29   2022        Final             Rajasthan Royals        Gujarat Titans  Narendra Modi Stadium, Ahmedabad      Rajasthan Royals          bat         N               Gujarat Titans  Wickets     7.0    NaN       HH Pandya  ['YBK Jaiswal', 'JC Buttler', 'SV Samson', 'D ...  ['WP Saha', 'Shubman Gill', 'MS Wade', 'HH Pan...    CB Gaffaney    Nitin Menon\n",
              "1  1312199  Ahmedabad  2022-05-27   2022  Qualifier 2  Royal Challengers Bangalore      Rajasthan Royals  Narendra Modi Stadium, Ahmedabad      Rajasthan Royals        field         N             Rajasthan Royals  Wickets     7.0    NaN      JC Buttler  ['V Kohli', 'F du Plessis', 'RM Patidar', 'GJ ...  ['YBK Jaiswal', 'JC Buttler', 'SV Samson', 'D ...    CB Gaffaney    Nitin Menon\n",
              "2  1312198    Kolkata  2022-05-25   2022   Eliminator  Royal Challengers Bangalore  Lucknow Super Giants             Eden Gardens, Kolkata  Lucknow Super Giants        field         N  Royal Challengers Bangalore     Runs    14.0    NaN      RM Patidar  ['V Kohli', 'F du Plessis', 'RM Patidar', 'GJ ...  ['Q de Kock', 'KL Rahul', 'M Vohra', 'DJ Hooda...  J Madanagopal       MA Gough\n",
              "3  1312197    Kolkata  2022-05-24   2022  Qualifier 1             Rajasthan Royals        Gujarat Titans             Eden Gardens, Kolkata        Gujarat Titans        field         N               Gujarat Titans  Wickets     7.0    NaN       DA Miller  ['YBK Jaiswal', 'JC Buttler', 'SV Samson', 'D ...  ['WP Saha', 'Shubman Gill', 'MS Wade', 'HH Pan...   BNJ Oxenford      VK Sharma\n",
              "4  1304116     Mumbai  2022-05-22   2022           70          Sunrisers Hyderabad          Punjab Kings          Wankhede Stadium, Mumbai   Sunrisers Hyderabad          bat         N                 Punjab Kings  Wickets     5.0    NaN   Harpreet Brar  ['PK Garg', 'Abhishek Sharma', 'RA Tripathi', ...  ['JM Bairstow', 'S Dhawan', 'M Shahrukh Khan',...   AK Chaudhary  NA Patwardhan"
            ],
            "text/html": [
              "\n",
              "  <div id=\"df-a374ec10-94ec-46a6-863c-c2221502fbe1\">\n",
              "    <div class=\"colab-df-container\">\n",
              "      <div>\n",
              "<style scoped>\n",
              "    .dataframe tbody tr th:only-of-type {\n",
              "        vertical-align: middle;\n",
              "    }\n",
              "\n",
              "    .dataframe tbody tr th {\n",
              "        vertical-align: top;\n",
              "    }\n",
              "\n",
              "    .dataframe thead th {\n",
              "        text-align: right;\n",
              "    }\n",
              "</style>\n",
              "<table border=\"1\" class=\"dataframe\">\n",
              "  <thead>\n",
              "    <tr style=\"text-align: right;\">\n",
              "      <th></th>\n",
              "      <th>ID</th>\n",
              "      <th>City</th>\n",
              "      <th>Date</th>\n",
              "      <th>Season</th>\n",
              "      <th>MatchNumber</th>\n",
              "      <th>Team1</th>\n",
              "      <th>Team2</th>\n",
              "      <th>Venue</th>\n",
              "      <th>TossWinner</th>\n",
              "      <th>TossDecision</th>\n",
              "      <th>SuperOver</th>\n",
              "      <th>WinningTeam</th>\n",
              "      <th>WonBy</th>\n",
              "      <th>Margin</th>\n",
              "      <th>method</th>\n",
              "      <th>Player_of_Match</th>\n",
              "      <th>Team1Players</th>\n",
              "      <th>Team2Players</th>\n",
              "      <th>Umpire1</th>\n",
              "      <th>Umpire2</th>\n",
              "    </tr>\n",
              "  </thead>\n",
              "  <tbody>\n",
              "    <tr>\n",
              "      <th>0</th>\n",
              "      <td>1312200</td>\n",
              "      <td>Ahmedabad</td>\n",
              "      <td>2022-05-29</td>\n",
              "      <td>2022</td>\n",
              "      <td>Final</td>\n",
              "      <td>Rajasthan Royals</td>\n",
              "      <td>Gujarat Titans</td>\n",
              "      <td>Narendra Modi Stadium, Ahmedabad</td>\n",
              "      <td>Rajasthan Royals</td>\n",
              "      <td>bat</td>\n",
              "      <td>N</td>\n",
              "      <td>Gujarat Titans</td>\n",
              "      <td>Wickets</td>\n",
              "      <td>7.0</td>\n",
              "      <td>NaN</td>\n",
              "      <td>HH Pandya</td>\n",
              "      <td>['YBK Jaiswal', 'JC Buttler', 'SV Samson', 'D ...</td>\n",
              "      <td>['WP Saha', 'Shubman Gill', 'MS Wade', 'HH Pan...</td>\n",
              "      <td>CB Gaffaney</td>\n",
              "      <td>Nitin Menon</td>\n",
              "    </tr>\n",
              "    <tr>\n",
              "      <th>1</th>\n",
              "      <td>1312199</td>\n",
              "      <td>Ahmedabad</td>\n",
              "      <td>2022-05-27</td>\n",
              "      <td>2022</td>\n",
              "      <td>Qualifier 2</td>\n",
              "      <td>Royal Challengers Bangalore</td>\n",
              "      <td>Rajasthan Royals</td>\n",
              "      <td>Narendra Modi Stadium, Ahmedabad</td>\n",
              "      <td>Rajasthan Royals</td>\n",
              "      <td>field</td>\n",
              "      <td>N</td>\n",
              "      <td>Rajasthan Royals</td>\n",
              "      <td>Wickets</td>\n",
              "      <td>7.0</td>\n",
              "      <td>NaN</td>\n",
              "      <td>JC Buttler</td>\n",
              "      <td>['V Kohli', 'F du Plessis', 'RM Patidar', 'GJ ...</td>\n",
              "      <td>['YBK Jaiswal', 'JC Buttler', 'SV Samson', 'D ...</td>\n",
              "      <td>CB Gaffaney</td>\n",
              "      <td>Nitin Menon</td>\n",
              "    </tr>\n",
              "    <tr>\n",
              "      <th>2</th>\n",
              "      <td>1312198</td>\n",
              "      <td>Kolkata</td>\n",
              "      <td>2022-05-25</td>\n",
              "      <td>2022</td>\n",
              "      <td>Eliminator</td>\n",
              "      <td>Royal Challengers Bangalore</td>\n",
              "      <td>Lucknow Super Giants</td>\n",
              "      <td>Eden Gardens, Kolkata</td>\n",
              "      <td>Lucknow Super Giants</td>\n",
              "      <td>field</td>\n",
              "      <td>N</td>\n",
              "      <td>Royal Challengers Bangalore</td>\n",
              "      <td>Runs</td>\n",
              "      <td>14.0</td>\n",
              "      <td>NaN</td>\n",
              "      <td>RM Patidar</td>\n",
              "      <td>['V Kohli', 'F du Plessis', 'RM Patidar', 'GJ ...</td>\n",
              "      <td>['Q de Kock', 'KL Rahul', 'M Vohra', 'DJ Hooda...</td>\n",
              "      <td>J Madanagopal</td>\n",
              "      <td>MA Gough</td>\n",
              "    </tr>\n",
              "    <tr>\n",
              "      <th>3</th>\n",
              "      <td>1312197</td>\n",
              "      <td>Kolkata</td>\n",
              "      <td>2022-05-24</td>\n",
              "      <td>2022</td>\n",
              "      <td>Qualifier 1</td>\n",
              "      <td>Rajasthan Royals</td>\n",
              "      <td>Gujarat Titans</td>\n",
              "      <td>Eden Gardens, Kolkata</td>\n",
              "      <td>Gujarat Titans</td>\n",
              "      <td>field</td>\n",
              "      <td>N</td>\n",
              "      <td>Gujarat Titans</td>\n",
              "      <td>Wickets</td>\n",
              "      <td>7.0</td>\n",
              "      <td>NaN</td>\n",
              "      <td>DA Miller</td>\n",
              "      <td>['YBK Jaiswal', 'JC Buttler', 'SV Samson', 'D ...</td>\n",
              "      <td>['WP Saha', 'Shubman Gill', 'MS Wade', 'HH Pan...</td>\n",
              "      <td>BNJ Oxenford</td>\n",
              "      <td>VK Sharma</td>\n",
              "    </tr>\n",
              "    <tr>\n",
              "      <th>4</th>\n",
              "      <td>1304116</td>\n",
              "      <td>Mumbai</td>\n",
              "      <td>2022-05-22</td>\n",
              "      <td>2022</td>\n",
              "      <td>70</td>\n",
              "      <td>Sunrisers Hyderabad</td>\n",
              "      <td>Punjab Kings</td>\n",
              "      <td>Wankhede Stadium, Mumbai</td>\n",
              "      <td>Sunrisers Hyderabad</td>\n",
              "      <td>bat</td>\n",
              "      <td>N</td>\n",
              "      <td>Punjab Kings</td>\n",
              "      <td>Wickets</td>\n",
              "      <td>5.0</td>\n",
              "      <td>NaN</td>\n",
              "      <td>Harpreet Brar</td>\n",
              "      <td>['PK Garg', 'Abhishek Sharma', 'RA Tripathi', ...</td>\n",
              "      <td>['JM Bairstow', 'S Dhawan', 'M Shahrukh Khan',...</td>\n",
              "      <td>AK Chaudhary</td>\n",
              "      <td>NA Patwardhan</td>\n",
              "    </tr>\n",
              "  </tbody>\n",
              "</table>\n",
              "</div>\n",
              "      <button class=\"colab-df-convert\" onclick=\"convertToInteractive('df-a374ec10-94ec-46a6-863c-c2221502fbe1')\"\n",
              "              title=\"Convert this dataframe to an interactive table.\"\n",
              "              style=\"display:none;\">\n",
              "        \n",
              "  <svg xmlns=\"http://www.w3.org/2000/svg\" height=\"24px\"viewBox=\"0 0 24 24\"\n",
              "       width=\"24px\">\n",
              "    <path d=\"M0 0h24v24H0V0z\" fill=\"none\"/>\n",
              "    <path d=\"M18.56 5.44l.94 2.06.94-2.06 2.06-.94-2.06-.94-.94-2.06-.94 2.06-2.06.94zm-11 1L8.5 8.5l.94-2.06 2.06-.94-2.06-.94L8.5 2.5l-.94 2.06-2.06.94zm10 10l.94 2.06.94-2.06 2.06-.94-2.06-.94-.94-2.06-.94 2.06-2.06.94z\"/><path d=\"M17.41 7.96l-1.37-1.37c-.4-.4-.92-.59-1.43-.59-.52 0-1.04.2-1.43.59L10.3 9.45l-7.72 7.72c-.78.78-.78 2.05 0 2.83L4 21.41c.39.39.9.59 1.41.59.51 0 1.02-.2 1.41-.59l7.78-7.78 2.81-2.81c.8-.78.8-2.07 0-2.86zM5.41 20L4 18.59l7.72-7.72 1.47 1.35L5.41 20z\"/>\n",
              "  </svg>\n",
              "      </button>\n",
              "      \n",
              "  <style>\n",
              "    .colab-df-container {\n",
              "      display:flex;\n",
              "      flex-wrap:wrap;\n",
              "      gap: 12px;\n",
              "    }\n",
              "\n",
              "    .colab-df-convert {\n",
              "      background-color: #E8F0FE;\n",
              "      border: none;\n",
              "      border-radius: 50%;\n",
              "      cursor: pointer;\n",
              "      display: none;\n",
              "      fill: #1967D2;\n",
              "      height: 32px;\n",
              "      padding: 0 0 0 0;\n",
              "      width: 32px;\n",
              "    }\n",
              "\n",
              "    .colab-df-convert:hover {\n",
              "      background-color: #E2EBFA;\n",
              "      box-shadow: 0px 1px 2px rgba(60, 64, 67, 0.3), 0px 1px 3px 1px rgba(60, 64, 67, 0.15);\n",
              "      fill: #174EA6;\n",
              "    }\n",
              "\n",
              "    [theme=dark] .colab-df-convert {\n",
              "      background-color: #3B4455;\n",
              "      fill: #D2E3FC;\n",
              "    }\n",
              "\n",
              "    [theme=dark] .colab-df-convert:hover {\n",
              "      background-color: #434B5C;\n",
              "      box-shadow: 0px 1px 3px 1px rgba(0, 0, 0, 0.15);\n",
              "      filter: drop-shadow(0px 1px 2px rgba(0, 0, 0, 0.3));\n",
              "      fill: #FFFFFF;\n",
              "    }\n",
              "  </style>\n",
              "\n",
              "      <script>\n",
              "        const buttonEl =\n",
              "          document.querySelector('#df-a374ec10-94ec-46a6-863c-c2221502fbe1 button.colab-df-convert');\n",
              "        buttonEl.style.display =\n",
              "          google.colab.kernel.accessAllowed ? 'block' : 'none';\n",
              "\n",
              "        async function convertToInteractive(key) {\n",
              "          const element = document.querySelector('#df-a374ec10-94ec-46a6-863c-c2221502fbe1');\n",
              "          const dataTable =\n",
              "            await google.colab.kernel.invokeFunction('convertToInteractive',\n",
              "                                                     [key], {});\n",
              "          if (!dataTable) return;\n",
              "\n",
              "          const docLinkHtml = 'Like what you see? Visit the ' +\n",
              "            '<a target=\"_blank\" href=https://colab.research.google.com/notebooks/data_table.ipynb>data table notebook</a>'\n",
              "            + ' to learn more about interactive tables.';\n",
              "          element.innerHTML = '';\n",
              "          dataTable['output_type'] = 'display_data';\n",
              "          await google.colab.output.renderOutput(dataTable, element);\n",
              "          const docLink = document.createElement('div');\n",
              "          docLink.innerHTML = docLinkHtml;\n",
              "          element.appendChild(docLink);\n",
              "        }\n",
              "      </script>\n",
              "    </div>\n",
              "  </div>\n",
              "  "
            ]
          },
          "metadata": {},
          "execution_count": 5
        }
      ]
    },
    {
      "cell_type": "code",
      "source": [
        "ipl.shape"
      ],
      "metadata": {
        "colab": {
          "base_uri": "https://localhost:8080/"
        },
        "id": "H4sGtpk4nke3",
        "outputId": "c4edd8f1-ab63-4875-b3d1-3d4e48b5ec84"
      },
      "execution_count": 6,
      "outputs": [
        {
          "output_type": "execute_result",
          "data": {
            "text/plain": [
              "(950, 20)"
            ]
          },
          "metadata": {},
          "execution_count": 6
        }
      ]
    },
    {
      "cell_type": "code",
      "source": [
        "ipl.info()"
      ],
      "metadata": {
        "colab": {
          "base_uri": "https://localhost:8080/"
        },
        "id": "a7368I7irrV0",
        "outputId": "7c8980d1-9531-4d1b-af8f-a91085853127"
      },
      "execution_count": 7,
      "outputs": [
        {
          "output_type": "stream",
          "name": "stdout",
          "text": [
            "<class 'pandas.core.frame.DataFrame'>\n",
            "RangeIndex: 950 entries, 0 to 949\n",
            "Data columns (total 20 columns):\n",
            " #   Column           Non-Null Count  Dtype  \n",
            "---  ------           --------------  -----  \n",
            " 0   ID               950 non-null    int64  \n",
            " 1   City             899 non-null    object \n",
            " 2   Date             950 non-null    object \n",
            " 3   Season           950 non-null    object \n",
            " 4   MatchNumber      950 non-null    object \n",
            " 5   Team1            950 non-null    object \n",
            " 6   Team2            950 non-null    object \n",
            " 7   Venue            950 non-null    object \n",
            " 8   TossWinner       950 non-null    object \n",
            " 9   TossDecision     950 non-null    object \n",
            " 10  SuperOver        946 non-null    object \n",
            " 11  WinningTeam      946 non-null    object \n",
            " 12  WonBy            950 non-null    object \n",
            " 13  Margin           932 non-null    float64\n",
            " 14  method           19 non-null     object \n",
            " 15  Player_of_Match  946 non-null    object \n",
            " 16  Team1Players     950 non-null    object \n",
            " 17  Team2Players     950 non-null    object \n",
            " 18  Umpire1          950 non-null    object \n",
            " 19  Umpire2          950 non-null    object \n",
            "dtypes: float64(1), int64(1), object(18)\n",
            "memory usage: 148.6+ KB\n"
          ]
        }
      ]
    },
    {
      "cell_type": "markdown",
      "source": [
        "Q1) find the venue in which highest number of matches were held\n"
      ],
      "metadata": {
        "id": "8JNff6aurxoM"
      }
    },
    {
      "cell_type": "code",
      "source": [
        "ipl['Venue'].value_counts()[:1]\n",
        "print(f\"Highest number of matches has been in played at {ipl['Venue'].value_counts().index[0]}.Count is {ipl['Venue'].value_counts()[0]} no of times\")"
      ],
      "metadata": {
        "colab": {
          "base_uri": "https://localhost:8080/"
        },
        "id": "kua3MeyertN-",
        "outputId": "fe8238b3-3889-4bc0-b066-c4f2bb6c8db5"
      },
      "execution_count": 8,
      "outputs": [
        {
          "output_type": "stream",
          "name": "stdout",
          "text": [
            "Highest number of matches has been in played at Eden Gardens.Count is 77 no of times\n"
          ]
        }
      ]
    },
    {
      "cell_type": "markdown",
      "source": [
        "Q2) Find the team winning most number of matches since 2008\n"
      ],
      "metadata": {
        "id": "cMKDm25UvFJ6"
      }
    },
    {
      "cell_type": "code",
      "source": [
        "ipl['WinningTeam'].value_counts()\n",
        "print(f\"Most winning team is {ipl['WinningTeam'].value_counts().index[0]}, who has win {ipl['WinningTeam'].value_counts().values[0]} matches since 2008\")"
      ],
      "metadata": {
        "colab": {
          "base_uri": "https://localhost:8080/"
        },
        "id": "X8_P1ancr7VZ",
        "outputId": "33f80716-a5b4-4a07-f7d6-8707a483893a"
      },
      "execution_count": 9,
      "outputs": [
        {
          "output_type": "stream",
          "name": "stdout",
          "text": [
            "Most winning team is Mumbai Indians, who has win 131 matches since 2008\n"
          ]
        }
      ]
    },
    {
      "cell_type": "markdown",
      "source": [
        "Q3) Find the team winning least number of matches"
      ],
      "metadata": {
        "id": "jqOxqChJwGel"
      }
    },
    {
      "cell_type": "code",
      "source": [
        "ipl['WinningTeam'].value_counts()\n",
        "print(f\"Team {ipl['WinningTeam'].value_counts().index[-1]} has win {ipl['WinningTeam'].value_counts().values[-1]} matches since 2008 which is least among all\")"
      ],
      "metadata": {
        "colab": {
          "base_uri": "https://localhost:8080/"
        },
        "id": "r4a-CdfVwF0y",
        "outputId": "95bfca40-8818-457e-a585-1c85b0917c68"
      },
      "execution_count": 10,
      "outputs": [
        {
          "output_type": "stream",
          "name": "stdout",
          "text": [
            "Team Rising Pune Supergiants has win 5 matches since 2008 which is least among all\n"
          ]
        }
      ]
    },
    {
      "cell_type": "markdown",
      "source": [
        "Q4) Find the team who played most number of matches. note down winning doesnt matter\n"
      ],
      "metadata": {
        "id": "WG8VG_jDxGP2"
      }
    },
    {
      "cell_type": "code",
      "source": [
        "matches_played=ipl['Team1'].value_counts()+ipl['Team2'].value_counts() #combining team1 and team2 to get Total matches played by each team \n",
        "matches_played = matches_played.sort_values(ascending=False)\n",
        "#plot bar graph for the teams and their number of matches played\n",
        "plt.bar(matches_played.index,matches_played.values)\n",
        "plt.xticks(rotation = 'vertical')\n",
        "plt.title(\"Total matches played since 2008\")\n",
        "plt.xlabel('Teams')\n",
        "plt.ylabel('Total Matched Played')"
      ],
      "metadata": {
        "colab": {
          "base_uri": "https://localhost:8080/",
          "height": 446
        },
        "id": "9IwCsZmBysKN",
        "outputId": "da047231-f72e-43a8-a704-6118c03eb0f7"
      },
      "execution_count": 11,
      "outputs": [
        {
          "output_type": "execute_result",
          "data": {
            "text/plain": [
              "Text(0, 0.5, 'Total Matched Played')"
            ]
          },
          "metadata": {},
          "execution_count": 11
        },
        {
          "output_type": "display_data",
          "data": {
            "text/plain": [
              "<Figure size 432x288 with 1 Axes>"
            ],
            "image/png": "[encoded data removed]"
          },
          "metadata": {
            "needs_background": "light"
          }
        }
      ]
    },
    {
      "cell_type": "code",
      "source": [
        "print(f\"Team which has played higest number of matches is {matches_played.index[0]} who has played total {matches_played.values[0]} matches.\")"
      ],
      "metadata": {
        "colab": {
          "base_uri": "https://localhost:8080/"
        },
        "id": "gra6RIA1xcUS",
        "outputId": "c4e04fa7-3f6c-4530-917e-31086b3347fa"
      },
      "execution_count": 12,
      "outputs": [
        {
          "output_type": "stream",
          "name": "stdout",
          "text": [
            "Team which has played higest number of matches is Mumbai Indians who has played total 231 matches.\n"
          ]
        }
      ]
    },
    {
      "cell_type": "markdown",
      "source": [
        " Q5)List out all team names since 2008"
      ],
      "metadata": {
        "id": "jZ3tiPa3zBQ_"
      }
    },
    {
      "cell_type": "code",
      "source": [
        "matches_played.index"
      ],
      "metadata": {
        "colab": {
          "base_uri": "https://localhost:8080/"
        },
        "id": "pcshd3T_xmfW",
        "outputId": "8f86f8cd-424c-4e7e-e849-be23a0a24ac3"
      },
      "execution_count": 13,
      "outputs": [
        {
          "output_type": "execute_result",
          "data": {
            "text/plain": [
              "Index(['Mumbai Indians', 'Royal Challengers Bangalore', 'Kolkata Knight Riders', 'Chennai Super Kings', 'Rajasthan Royals', 'Kings XI Punjab', 'Delhi Daredevils', 'Sunrisers Hyderabad', 'Deccan Chargers', 'Delhi Capitals', 'Pune Warriors', 'Gujarat Lions', 'Punjab Kings', 'Gujarat Titans', 'Rising Pune Supergiant', 'Lucknow Super Giants', 'Kochi Tuskers Kerala', 'Rising Pune Supergiants'], dtype='object')"
            ]
          },
          "metadata": {},
          "execution_count": 13
        }
      ]
    },
    {
      "cell_type": "markdown",
      "source": [
        "Q6) List out each seasons winners."
      ],
      "metadata": {
        "id": "UEMnFply1Cno"
      }
    },
    {
      "cell_type": "code",
      "source": [
        "final_df=ipl[ipl['MatchNumber']=='Final']  #filter based on final matches\n",
        "final_df[['Season','WinningTeam']].sort_values('Season')"
      ],
      "metadata": {
        "colab": {
          "base_uri": "https://localhost:8080/",
          "height": 520
        },
        "id": "qTXeZ11y1KZW",
        "outputId": "c1840143-a6c3-4b2d-f41f-6ee075a387f3"
      },
      "execution_count": 14,
      "outputs": [
        {
          "output_type": "execute_result",
          "data": {
            "text/plain": [
              "      Season            WinningTeam\n",
              "892  2007/08       Rajasthan Royals\n",
              "835     2009        Deccan Chargers\n",
              "775  2009/10    Chennai Super Kings\n",
              "702     2011    Chennai Super Kings\n",
              "628     2012  Kolkata Knight Riders\n",
              "552     2013         Mumbai Indians\n",
              "492     2014  Kolkata Knight Riders\n",
              "433     2015         Mumbai Indians\n",
              "373     2016    Sunrisers Hyderabad\n",
              "314     2017         Mumbai Indians\n",
              "254     2018    Chennai Super Kings\n",
              "194     2019         Mumbai Indians\n",
              "134  2020/21         Mumbai Indians\n",
              "74      2021    Chennai Super Kings\n",
              "0       2022         Gujarat Titans"
            ],
            "text/html": [
              "\n",
              "  <div id=\"df-1ab7d1b3-e46e-449b-a5f5-c1c86d35b20a\">\n",
              "    <div class=\"colab-df-container\">\n",
              "      <div>\n",
              "<style scoped>\n",
              "    .dataframe tbody tr th:only-of-type {\n",
              "        vertical-align: middle;\n",
              "    }\n",
              "\n",
              "    .dataframe tbody tr th {\n",
              "        vertical-align: top;\n",
              "    }\n",
              "\n",
              "    .dataframe thead th {\n",
              "        text-align: right;\n",
              "    }\n",
              "</style>\n",
              "<table border=\"1\" class=\"dataframe\">\n",
              "  <thead>\n",
              "    <tr style=\"text-align: right;\">\n",
              "      <th></th>\n",
              "      <th>Season</th>\n",
              "      <th>WinningTeam</th>\n",
              "    </tr>\n",
              "  </thead>\n",
              "  <tbody>\n",
              "    <tr>\n",
              "      <th>892</th>\n",
              "      <td>2007/08</td>\n",
              "      <td>Rajasthan Royals</td>\n",
              "    </tr>\n",
              "    <tr>\n",
              "      <th>835</th>\n",
              "      <td>2009</td>\n",
              "      <td>Deccan Chargers</td>\n",
              "    </tr>\n",
              "    <tr>\n",
              "      <th>775</th>\n",
              "      <td>2009/10</td>\n",
              "      <td>Chennai Super Kings</td>\n",
              "    </tr>\n",
              "    <tr>\n",
              "      <th>702</th>\n",
              "      <td>2011</td>\n",
              "      <td>Chennai Super Kings</td>\n",
              "    </tr>\n",
              "    <tr>\n",
              "      <th>628</th>\n",
              "      <td>2012</td>\n",
              "      <td>Kolkata Knight Riders</td>\n",
              "    </tr>\n",
              "    <tr>\n",
              "      <th>552</th>\n",
              "      <td>2013</td>\n",
              "      <td>Mumbai Indians</td>\n",
              "    </tr>\n",
              "    <tr>\n",
              "      <th>492</th>\n",
              "      <td>2014</td>\n",
              "      <td>Kolkata Knight Riders</td>\n",
              "    </tr>\n",
              "    <tr>\n",
              "      <th>433</th>\n",
              "      <td>2015</td>\n",
              "      <td>Mumbai Indians</td>\n",
              "    </tr>\n",
              "    <tr>\n",
              "      <th>373</th>\n",
              "      <td>2016</td>\n",
              "      <td>Sunrisers Hyderabad</td>\n",
              "    </tr>\n",
              "    <tr>\n",
              "      <th>314</th>\n",
              "      <td>2017</td>\n",
              "      <td>Mumbai Indians</td>\n",
              "    </tr>\n",
              "    <tr>\n",
              "      <th>254</th>\n",
              "      <td>2018</td>\n",
              "      <td>Chennai Super Kings</td>\n",
              "    </tr>\n",
              "    <tr>\n",
              "      <th>194</th>\n",
              "      <td>2019</td>\n",
              "      <td>Mumbai Indians</td>\n",
              "    </tr>\n",
              "    <tr>\n",
              "      <th>134</th>\n",
              "      <td>2020/21</td>\n",
              "      <td>Mumbai Indians</td>\n",
              "    </tr>\n",
              "    <tr>\n",
              "      <th>74</th>\n",
              "      <td>2021</td>\n",
              "      <td>Chennai Super Kings</td>\n",
              "    </tr>\n",
              "    <tr>\n",
              "      <th>0</th>\n",
              "      <td>2022</td>\n",
              "      <td>Gujarat Titans</td>\n",
              "    </tr>\n",
              "  </tbody>\n",
              "</table>\n",
              "</div>\n",
              "      <button class=\"colab-df-convert\" onclick=\"convertToInteractive('df-1ab7d1b3-e46e-449b-a5f5-c1c86d35b20a')\"\n",
              "              title=\"Convert this dataframe to an interactive table.\"\n",
              "              style=\"display:none;\">\n",
              "        \n",
              "  <svg xmlns=\"http://www.w3.org/2000/svg\" height=\"24px\"viewBox=\"0 0 24 24\"\n",
              "       width=\"24px\">\n",
              "    <path d=\"M0 0h24v24H0V0z\" fill=\"none\"/>\n",
              "    <path d=\"M18.56 5.44l.94 2.06.94-2.06 2.06-.94-2.06-.94-.94-2.06-.94 2.06-2.06.94zm-11 1L8.5 8.5l.94-2.06 2.06-.94-2.06-.94L8.5 2.5l-.94 2.06-2.06.94zm10 10l.94 2.06.94-2.06 2.06-.94-2.06-.94-.94-2.06-.94 2.06-2.06.94z\"/><path d=\"M17.41 7.96l-1.37-1.37c-.4-.4-.92-.59-1.43-.59-.52 0-1.04.2-1.43.59L10.3 9.45l-7.72 7.72c-.78.78-.78 2.05 0 2.83L4 21.41c.39.39.9.59 1.41.59.51 0 1.02-.2 1.41-.59l7.78-7.78 2.81-2.81c.8-.78.8-2.07 0-2.86zM5.41 20L4 18.59l7.72-7.72 1.47 1.35L5.41 20z\"/>\n",
              "  </svg>\n",
              "      </button>\n",
              "      \n",
              "  <style>\n",
              "    .colab-df-container {\n",
              "      display:flex;\n",
              "      flex-wrap:wrap;\n",
              "      gap: 12px;\n",
              "    }\n",
              "\n",
              "    .colab-df-convert {\n",
              "      background-color: #E8F0FE;\n",
              "      border: none;\n",
              "      border-radius: 50%;\n",
              "      cursor: pointer;\n",
              "      display: none;\n",
              "      fill: #1967D2;\n",
              "      height: 32px;\n",
              "      padding: 0 0 0 0;\n",
              "      width: 32px;\n",
              "    }\n",
              "\n",
              "    .colab-df-convert:hover {\n",
              "      background-color: #E2EBFA;\n",
              "      box-shadow: 0px 1px 2px rgba(60, 64, 67, 0.3), 0px 1px 3px 1px rgba(60, 64, 67, 0.15);\n",
              "      fill: #174EA6;\n",
              "    }\n",
              "\n",
              "    [theme=dark] .colab-df-convert {\n",
              "      background-color: #3B4455;\n",
              "      fill: #D2E3FC;\n",
              "    }\n",
              "\n",
              "    [theme=dark] .colab-df-convert:hover {\n",
              "      background-color: #434B5C;\n",
              "      box-shadow: 0px 1px 3px 1px rgba(0, 0, 0, 0.15);\n",
              "      filter: drop-shadow(0px 1px 2px rgba(0, 0, 0, 0.3));\n",
              "      fill: #FFFFFF;\n",
              "    }\n",
              "  </style>\n",
              "\n",
              "      <script>\n",
              "        const buttonEl =\n",
              "          document.querySelector('#df-1ab7d1b3-e46e-449b-a5f5-c1c86d35b20a button.colab-df-convert');\n",
              "        buttonEl.style.display =\n",
              "          google.colab.kernel.accessAllowed ? 'block' : 'none';\n",
              "\n",
              "        async function convertToInteractive(key) {\n",
              "          const element = document.querySelector('#df-1ab7d1b3-e46e-449b-a5f5-c1c86d35b20a');\n",
              "          const dataTable =\n",
              "            await google.colab.kernel.invokeFunction('convertToInteractive',\n",
              "                                                     [key], {});\n",
              "          if (!dataTable) return;\n",
              "\n",
              "          const docLinkHtml = 'Like what you see? Visit the ' +\n",
              "            '<a target=\"_blank\" href=https://colab.research.google.com/notebooks/data_table.ipynb>data table notebook</a>'\n",
              "            + ' to learn more about interactive tables.';\n",
              "          element.innerHTML = '';\n",
              "          dataTable['output_type'] = 'display_data';\n",
              "          await google.colab.output.renderOutput(dataTable, element);\n",
              "          const docLink = document.createElement('div');\n",
              "          docLink.innerHTML = docLinkHtml;\n",
              "          element.appendChild(docLink);\n",
              "        }\n",
              "      </script>\n",
              "    </div>\n",
              "  </div>\n",
              "  "
            ]
          },
          "metadata": {},
          "execution_count": 14
        }
      ]
    },
    {
      "cell_type": "markdown",
      "source": [
        "Q7) how many times each team has won the finals\n"
      ],
      "metadata": {
        "id": "rsVB9rBu2yA6"
      }
    },
    {
      "cell_type": "code",
      "source": [
        "final_df.groupby('WinningTeam').size().sort_values(ascending=False)"
      ],
      "metadata": {
        "colab": {
          "base_uri": "https://localhost:8080/"
        },
        "id": "J52Ufu1z1kpS",
        "outputId": "d8c2cef9-cdad-46f9-9827-a979a89504d2"
      },
      "execution_count": 15,
      "outputs": [
        {
          "output_type": "execute_result",
          "data": {
            "text/plain": [
              "WinningTeam\n",
              "Mumbai Indians           5\n",
              "Chennai Super Kings      4\n",
              "Kolkata Knight Riders    2\n",
              "Deccan Chargers          1\n",
              "Gujarat Titans           1\n",
              "Rajasthan Royals         1\n",
              "Sunrisers Hyderabad      1\n",
              "dtype: int64"
            ]
          },
          "metadata": {},
          "execution_count": 15
        }
      ]
    },
    {
      "cell_type": "code",
      "source": [
        "wins=final_df.groupby('WinningTeam').size().sort_values(ascending=False)\n",
        "plt.pie(wins, labels=wins.index, autopct=\"%0.1f%%\")\n",
        "plt.show()"
      ],
      "metadata": {
        "colab": {
          "base_uri": "https://localhost:8080/",
          "height": 248
        },
        "id": "EMBuI2iiss64",
        "outputId": "ab2df947-9266-409c-ddf9-a487e9b47171"
      },
      "execution_count": 16,
      "outputs": [
        {
          "output_type": "display_data",
          "data": {
            "text/plain": [
              "<Figure size 432x288 with 1 Axes>"
            ],
            "image/png": "[encoded data removed]"
          },
          "metadata": {}
        }
      ]
    },
    {
      "cell_type": "markdown",
      "source": [
        "Q8)Find out whether the toss winner of the game has actually won the game by his decision to bat or field first?\n"
      ],
      "metadata": {
        "id": "RbOapOsv3hg8"
      }
    },
    {
      "cell_type": "code",
      "source": [
        "toss_match_win=ipl[ipl['TossWinner']==ipl['WinningTeam']]\n",
        "print(f\"Probability of team who has won the toss will also win the match is {round(toss_match_win.size/ipl.size*100,2)}\")"
      ],
      "metadata": {
        "colab": {
          "base_uri": "https://localhost:8080/"
        },
        "id": "ovLcV2yX3CwE",
        "outputId": "2d66de13-0cbd-4517-ba3c-8491b534d9c9"
      },
      "execution_count": 17,
      "outputs": [
        {
          "output_type": "stream",
          "name": "stdout",
          "text": [
            "Probability of team who has won the toss will also win the match is 51.47\n"
          ]
        }
      ]
    },
    {
      "cell_type": "code",
      "source": [
        "delivery=pd.read_csv(\"/content/drive/MyDrive/campus x /numpy,pandas/week7/session 20 Pandas Merge/session 20 task/deliveries.csv\")\n",
        "delivery.head()"
      ],
      "metadata": {
        "colab": {
          "base_uri": "https://localhost:8080/",
          "height": 444
        },
        "id": "EP8AVets4a1t",
        "outputId": "e6fddecc-1ba9-43e4-ae7d-8c97f35b4a20"
      },
      "execution_count": 18,
      "outputs": [
        {
          "output_type": "execute_result",
          "data": {
            "text/plain": [
              "   match_id  inning         batting_team                 bowling_team  over  ball    batsman non_striker    bowler  is_super_over  wide_runs  bye_runs  legbye_runs  noball_runs  penalty_runs  batsman_runs  extra_runs  total_runs player_dismissed dismissal_kind fielder\n",
              "0         1       1  Sunrisers Hyderabad  Royal Challengers Bangalore     1     1  DA Warner    S Dhawan  TS Mills              0          0         0            0            0             0             0           0           0              NaN            NaN     NaN\n",
              "1         1       1  Sunrisers Hyderabad  Royal Challengers Bangalore     1     2  DA Warner    S Dhawan  TS Mills              0          0         0            0            0             0             0           0           0              NaN            NaN     NaN\n",
              "2         1       1  Sunrisers Hyderabad  Royal Challengers Bangalore     1     3  DA Warner    S Dhawan  TS Mills              0          0         0            0            0             0             4           0           4              NaN            NaN     NaN\n",
              "3         1       1  Sunrisers Hyderabad  Royal Challengers Bangalore     1     4  DA Warner    S Dhawan  TS Mills              0          0         0            0            0             0             0           0           0              NaN            NaN     NaN\n",
              "4         1       1  Sunrisers Hyderabad  Royal Challengers Bangalore     1     5  DA Warner    S Dhawan  TS Mills              0          2         0            0            0             0             0           2           2              NaN            NaN     NaN"
            ],
            "text/html": [
              "\n",
              "  <div id=\"df-59cae212-e5e4-40c9-9cb2-b4c7aba9dd18\">\n",
              "    <div class=\"colab-df-container\">\n",
              "      <div>\n",
              "<style scoped>\n",
              "    .dataframe tbody tr th:only-of-type {\n",
              "        vertical-align: middle;\n",
              "    }\n",
              "\n",
              "    .dataframe tbody tr th {\n",
              "        vertical-align: top;\n",
              "    }\n",
              "\n",
              "    .dataframe thead th {\n",
              "        text-align: right;\n",
              "    }\n",
              "</style>\n",
              "<table border=\"1\" class=\"dataframe\">\n",
              "  <thead>\n",
              "    <tr style=\"text-align: right;\">\n",
              "      <th></th>\n",
              "      <th>match_id</th>\n",
              "      <th>inning</th>\n",
              "      <th>batting_team</th>\n",
              "      <th>bowling_team</th>\n",
              "      <th>over</th>\n",
              "      <th>ball</th>\n",
              "      <th>batsman</th>\n",
              "      <th>non_striker</th>\n",
              "      <th>bowler</th>\n",
              "      <th>is_super_over</th>\n",
              "      <th>wide_runs</th>\n",
              "      <th>bye_runs</th>\n",
              "      <th>legbye_runs</th>\n",
              "      <th>noball_runs</th>\n",
              "      <th>penalty_runs</th>\n",
              "      <th>batsman_runs</th>\n",
              "      <th>extra_runs</th>\n",
              "      <th>total_runs</th>\n",
              "      <th>player_dismissed</th>\n",
              "      <th>dismissal_kind</th>\n",
              "      <th>fielder</th>\n",
              "    </tr>\n",
              "  </thead>\n",
              "  <tbody>\n",
              "    <tr>\n",
              "      <th>0</th>\n",
              "      <td>1</td>\n",
              "      <td>1</td>\n",
              "      <td>Sunrisers Hyderabad</td>\n",
              "      <td>Royal Challengers Bangalore</td>\n",
              "      <td>1</td>\n",
              "      <td>1</td>\n",
              "      <td>DA Warner</td>\n",
              "      <td>S Dhawan</td>\n",
              "      <td>TS Mills</td>\n",
              "      <td>0</td>\n",
              "      <td>0</td>\n",
              "      <td>0</td>\n",
              "      <td>0</td>\n",
              "      <td>0</td>\n",
              "      <td>0</td>\n",
              "      <td>0</td>\n",
              "      <td>0</td>\n",
              "      <td>0</td>\n",
              "      <td>NaN</td>\n",
              "      <td>NaN</td>\n",
              "      <td>NaN</td>\n",
              "    </tr>\n",
              "    <tr>\n",
              "      <th>1</th>\n",
              "      <td>1</td>\n",
              "      <td>1</td>\n",
              "      <td>Sunrisers Hyderabad</td>\n",
              "      <td>Royal Challengers Bangalore</td>\n",
              "      <td>1</td>\n",
              "      <td>2</td>\n",
              "      <td>DA Warner</td>\n",
              "      <td>S Dhawan</td>\n",
              "      <td>TS Mills</td>\n",
              "      <td>0</td>\n",
              "      <td>0</td>\n",
              "      <td>0</td>\n",
              "      <td>0</td>\n",
              "      <td>0</td>\n",
              "      <td>0</td>\n",
              "      <td>0</td>\n",
              "      <td>0</td>\n",
              "      <td>0</td>\n",
              "      <td>NaN</td>\n",
              "      <td>NaN</td>\n",
              "      <td>NaN</td>\n",
              "    </tr>\n",
              "    <tr>\n",
              "      <th>2</th>\n",
              "      <td>1</td>\n",
              "      <td>1</td>\n",
              "      <td>Sunrisers Hyderabad</td>\n",
              "      <td>Royal Challengers Bangalore</td>\n",
              "      <td>1</td>\n",
              "      <td>3</td>\n",
              "      <td>DA Warner</td>\n",
              "      <td>S Dhawan</td>\n",
              "      <td>TS Mills</td>\n",
              "      <td>0</td>\n",
              "      <td>0</td>\n",
              "      <td>0</td>\n",
              "      <td>0</td>\n",
              "      <td>0</td>\n",
              "      <td>0</td>\n",
              "      <td>4</td>\n",
              "      <td>0</td>\n",
              "      <td>4</td>\n",
              "      <td>NaN</td>\n",
              "      <td>NaN</td>\n",
              "      <td>NaN</td>\n",
              "    </tr>\n",
              "    <tr>\n",
              "      <th>3</th>\n",
              "      <td>1</td>\n",
              "      <td>1</td>\n",
              "      <td>Sunrisers Hyderabad</td>\n",
              "      <td>Royal Challengers Bangalore</td>\n",
              "      <td>1</td>\n",
              "      <td>4</td>\n",
              "      <td>DA Warner</td>\n",
              "      <td>S Dhawan</td>\n",
              "      <td>TS Mills</td>\n",
              "      <td>0</td>\n",
              "      <td>0</td>\n",
              "      <td>0</td>\n",
              "      <td>0</td>\n",
              "      <td>0</td>\n",
              "      <td>0</td>\n",
              "      <td>0</td>\n",
              "      <td>0</td>\n",
              "      <td>0</td>\n",
              "      <td>NaN</td>\n",
              "      <td>NaN</td>\n",
              "      <td>NaN</td>\n",
              "    </tr>\n",
              "    <tr>\n",
              "      <th>4</th>\n",
              "      <td>1</td>\n",
              "      <td>1</td>\n",
              "      <td>Sunrisers Hyderabad</td>\n",
              "      <td>Royal Challengers Bangalore</td>\n",
              "      <td>1</td>\n",
              "      <td>5</td>\n",
              "      <td>DA Warner</td>\n",
              "      <td>S Dhawan</td>\n",
              "      <td>TS Mills</td>\n",
              "      <td>0</td>\n",
              "      <td>2</td>\n",
              "      <td>0</td>\n",
              "      <td>0</td>\n",
              "      <td>0</td>\n",
              "      <td>0</td>\n",
              "      <td>0</td>\n",
              "      <td>2</td>\n",
              "      <td>2</td>\n",
              "      <td>NaN</td>\n",
              "      <td>NaN</td>\n",
              "      <td>NaN</td>\n",
              "    </tr>\n",
              "  </tbody>\n",
              "</table>\n",
              "</div>\n",
              "      <button class=\"colab-df-convert\" onclick=\"convertToInteractive('df-59cae212-e5e4-40c9-9cb2-b4c7aba9dd18')\"\n",
              "              title=\"Convert this dataframe to an interactive table.\"\n",
              "              style=\"display:none;\">\n",
              "        \n",
              "  <svg xmlns=\"http://www.w3.org/2000/svg\" height=\"24px\"viewBox=\"0 0 24 24\"\n",
              "       width=\"24px\">\n",
              "    <path d=\"M0 0h24v24H0V0z\" fill=\"none\"/>\n",
              "    <path d=\"M18.56 5.44l.94 2.06.94-2.06 2.06-.94-2.06-.94-.94-2.06-.94 2.06-2.06.94zm-11 1L8.5 8.5l.94-2.06 2.06-.94-2.06-.94L8.5 2.5l-.94 2.06-2.06.94zm10 10l.94 2.06.94-2.06 2.06-.94-2.06-.94-.94-2.06-.94 2.06-2.06.94z\"/><path d=\"M17.41 7.96l-1.37-1.37c-.4-.4-.92-.59-1.43-.59-.52 0-1.04.2-1.43.59L10.3 9.45l-7.72 7.72c-.78.78-.78 2.05 0 2.83L4 21.41c.39.39.9.59 1.41.59.51 0 1.02-.2 1.41-.59l7.78-7.78 2.81-2.81c.8-.78.8-2.07 0-2.86zM5.41 20L4 18.59l7.72-7.72 1.47 1.35L5.41 20z\"/>\n",
              "  </svg>\n",
              "      </button>\n",
              "      \n",
              "  <style>\n",
              "    .colab-df-container {\n",
              "      display:flex;\n",
              "      flex-wrap:wrap;\n",
              "      gap: 12px;\n",
              "    }\n",
              "\n",
              "    .colab-df-convert {\n",
              "      background-color: #E8F0FE;\n",
              "      border: none;\n",
              "      border-radius: 50%;\n",
              "      cursor: pointer;\n",
              "      display: none;\n",
              "      fill: #1967D2;\n",
              "      height: 32px;\n",
              "      padding: 0 0 0 0;\n",
              "      width: 32px;\n",
              "    }\n",
              "\n",
              "    .colab-df-convert:hover {\n",
              "      background-color: #E2EBFA;\n",
              "      box-shadow: 0px 1px 2px rgba(60, 64, 67, 0.3), 0px 1px 3px 1px rgba(60, 64, 67, 0.15);\n",
              "      fill: #174EA6;\n",
              "    }\n",
              "\n",
              "    [theme=dark] .colab-df-convert {\n",
              "      background-color: #3B4455;\n",
              "      fill: #D2E3FC;\n",
              "    }\n",
              "\n",
              "    [theme=dark] .colab-df-convert:hover {\n",
              "      background-color: #434B5C;\n",
              "      box-shadow: 0px 1px 3px 1px rgba(0, 0, 0, 0.15);\n",
              "      filter: drop-shadow(0px 1px 2px rgba(0, 0, 0, 0.3));\n",
              "      fill: #FFFFFF;\n",
              "    }\n",
              "  </style>\n",
              "\n",
              "      <script>\n",
              "        const buttonEl =\n",
              "          document.querySelector('#df-59cae212-e5e4-40c9-9cb2-b4c7aba9dd18 button.colab-df-convert');\n",
              "        buttonEl.style.display =\n",
              "          google.colab.kernel.accessAllowed ? 'block' : 'none';\n",
              "\n",
              "        async function convertToInteractive(key) {\n",
              "          const element = document.querySelector('#df-59cae212-e5e4-40c9-9cb2-b4c7aba9dd18');\n",
              "          const dataTable =\n",
              "            await google.colab.kernel.invokeFunction('convertToInteractive',\n",
              "                                                     [key], {});\n",
              "          if (!dataTable) return;\n",
              "\n",
              "          const docLinkHtml = 'Like what you see? Visit the ' +\n",
              "            '<a target=\"_blank\" href=https://colab.research.google.com/notebooks/data_table.ipynb>data table notebook</a>'\n",
              "            + ' to learn more about interactive tables.';\n",
              "          element.innerHTML = '';\n",
              "          dataTable['output_type'] = 'display_data';\n",
              "          await google.colab.output.renderOutput(dataTable, element);\n",
              "          const docLink = document.createElement('div');\n",
              "          docLink.innerHTML = docLinkHtml;\n",
              "          element.appendChild(docLink);\n",
              "        }\n",
              "      </script>\n",
              "    </div>\n",
              "  </div>\n",
              "  "
            ]
          },
          "metadata": {},
          "execution_count": 18
        }
      ]
    },
    {
      "cell_type": "code",
      "source": [
        "delivery.info()"
      ],
      "metadata": {
        "colab": {
          "base_uri": "https://localhost:8080/"
        },
        "id": "BNY3G2gg6b95",
        "outputId": "30135c95-ac6c-4f45-9ebc-84c2a179af05"
      },
      "execution_count": 19,
      "outputs": [
        {
          "output_type": "stream",
          "name": "stdout",
          "text": [
            "<class 'pandas.core.frame.DataFrame'>\n",
            "RangeIndex: 150460 entries, 0 to 150459\n",
            "Data columns (total 21 columns):\n",
            " #   Column            Non-Null Count   Dtype \n",
            "---  ------            --------------   ----- \n",
            " 0   match_id          150460 non-null  int64 \n",
            " 1   inning            150460 non-null  int64 \n",
            " 2   batting_team      150460 non-null  object\n",
            " 3   bowling_team      150460 non-null  object\n",
            " 4   over              150460 non-null  int64 \n",
            " 5   ball              150460 non-null  int64 \n",
            " 6   batsman           150460 non-null  object\n",
            " 7   non_striker       150460 non-null  object\n",
            " 8   bowler            150460 non-null  object\n",
            " 9   is_super_over     150460 non-null  int64 \n",
            " 10  wide_runs         150460 non-null  int64 \n",
            " 11  bye_runs          150460 non-null  int64 \n",
            " 12  legbye_runs       150460 non-null  int64 \n",
            " 13  noball_runs       150460 non-null  int64 \n",
            " 14  penalty_runs      150460 non-null  int64 \n",
            " 15  batsman_runs      150460 non-null  int64 \n",
            " 16  extra_runs        150460 non-null  int64 \n",
            " 17  total_runs        150460 non-null  int64 \n",
            " 18  player_dismissed  7438 non-null    object\n",
            " 19  dismissal_kind    7438 non-null    object\n",
            " 20  fielder           5369 non-null    object\n",
            "dtypes: int64(13), object(8)\n",
            "memory usage: 24.1+ MB\n"
          ]
        }
      ]
    },
    {
      "cell_type": "markdown",
      "source": [
        "Q9) top 5 batsman in ipl according to most number of runs?"
      ],
      "metadata": {
        "id": "OqvA15tI62qO"
      }
    },
    {
      "cell_type": "code",
      "source": [
        "batsman=delivery.groupby('batsman')['batsman_runs'].sum().sort_values(ascending=False).head()\n",
        "plt.bar(batsman.index, batsman.values, color='blue')\n",
        "plt.title('Top batsman based on runs scored')\n",
        "plt.xlabel('batsman')\n",
        "plt.ylabel('Runs Score')"
      ],
      "metadata": {
        "colab": {
          "base_uri": "https://localhost:8080/",
          "height": 312
        },
        "id": "WXcNMNl_tvrS",
        "outputId": "956c80c8-d837-4ea5-9615-7a72520872d4"
      },
      "execution_count": 20,
      "outputs": [
        {
          "output_type": "execute_result",
          "data": {
            "text/plain": [
              "Text(0, 0.5, 'Runs Score')"
            ]
          },
          "metadata": {},
          "execution_count": 20
        },
        {
          "output_type": "display_data",
          "data": {
            "text/plain": [
              "<Figure size 432x288 with 1 Axes>"
            ],
            "image/png": "[encoded data removed]"
          },
          "metadata": {
            "needs_background": "light"
          }
        }
      ]
    },
    {
      "cell_type": "markdown",
      "source": [
        "Q10) which batsman has played most number of balls"
      ],
      "metadata": {
        "id": "6mIAF1aP7lgY"
      }
    },
    {
      "cell_type": "code",
      "source": [
        "delivery.groupby('batsman').size().sort_values(ascending=False).head()"
      ],
      "metadata": {
        "colab": {
          "base_uri": "https://localhost:8080/"
        },
        "id": "oampKqmt7WRM",
        "outputId": "787f1a89-0014-42cd-b916-f7b98da484ed"
      },
      "execution_count": 21,
      "outputs": [
        {
          "output_type": "execute_result",
          "data": {
            "text/plain": [
              "batsman\n",
              "V Kohli      3494\n",
              "G Gambhir    3433\n",
              "SK Raina     3369\n",
              "RG Sharma    3274\n",
              "S Dhawan     3005\n",
              "dtype: int64"
            ]
          },
          "metadata": {},
          "execution_count": 21
        }
      ]
    },
    {
      "cell_type": "markdown",
      "source": [
        "Q11) which batsman has hit highest number of 4s"
      ],
      "metadata": {
        "id": "mNhOjP3P8bSe"
      }
    },
    {
      "cell_type": "code",
      "source": [
        "fours=delivery[delivery['batsman_runs']==4]\n",
        "fours.groupby('batsman').size().sort_values(ascending=False).head()"
      ],
      "metadata": {
        "colab": {
          "base_uri": "https://localhost:8080/"
        },
        "id": "wWYkRMGx7-yM",
        "outputId": "679b5e88-eb50-4652-f3bd-d02b702501df"
      },
      "execution_count": 22,
      "outputs": [
        {
          "output_type": "execute_result",
          "data": {
            "text/plain": [
              "batsman\n",
              "G Gambhir    484\n",
              "SK Raina     402\n",
              "DA Warner    401\n",
              "S Dhawan     401\n",
              "V Kohli      384\n",
              "dtype: int64"
            ]
          },
          "metadata": {},
          "execution_count": 22
        }
      ]
    },
    {
      "cell_type": "markdown",
      "source": [
        "Q12) how many total fours in ipl till now"
      ],
      "metadata": {
        "id": "9nf6ebFm9aXD"
      }
    },
    {
      "cell_type": "code",
      "source": [
        "len(fours)"
      ],
      "metadata": {
        "colab": {
          "base_uri": "https://localhost:8080/"
        },
        "id": "LBnY8kI88o5r",
        "outputId": "17c4480d-1b1c-4150-d6c1-595723986261"
      },
      "execution_count": 23,
      "outputs": [
        {
          "output_type": "execute_result",
          "data": {
            "text/plain": [
              "17033"
            ]
          },
          "metadata": {},
          "execution_count": 23
        }
      ]
    },
    {
      "cell_type": "markdown",
      "source": [
        "Q13) which batsman has hit highest number of 6's"
      ],
      "metadata": {
        "id": "WGyrmhp6-DsO"
      }
    },
    {
      "cell_type": "code",
      "source": [
        "six=delivery[delivery['batsman_runs']==6]\n",
        "six.groupby('batsman').size().sort_values(ascending=False).head()"
      ],
      "metadata": {
        "colab": {
          "base_uri": "https://localhost:8080/"
        },
        "id": "cZGIowBx9qLA",
        "outputId": "d47d15a6-ac18-4a02-e18d-4f1c339fdf33"
      },
      "execution_count": 24,
      "outputs": [
        {
          "output_type": "execute_result",
          "data": {
            "text/plain": [
              "batsman\n",
              "CH Gayle     266\n",
              "SK Raina     174\n",
              "RG Sharma    173\n",
              "V Kohli      160\n",
              "DA Warner    160\n",
              "dtype: int64"
            ]
          },
          "metadata": {},
          "execution_count": 24
        }
      ]
    },
    {
      "cell_type": "markdown",
      "source": [
        "Q14) which bowler has given most no. of dot balls"
      ],
      "metadata": {
        "id": "ekQ0sXNO-LvX"
      }
    },
    {
      "cell_type": "code",
      "source": [
        "#dot bowl means a ball on which runs scored is zero\n",
        "delivery[delivery['batsman_runs']==0]['bowler'].value_counts().head() "
      ],
      "metadata": {
        "colab": {
          "base_uri": "https://localhost:8080/"
        },
        "id": "_qdHsgQm-HBI",
        "outputId": "dae9efc9-a9e2-41cc-a880-fc99054c0fe3"
      },
      "execution_count": 25,
      "outputs": [
        {
          "output_type": "execute_result",
          "data": {
            "text/plain": [
              "P Kumar            1260\n",
              "SL Malinga         1256\n",
              "Harbhajan Singh    1176\n",
              "DW Steyn           1110\n",
              "A Mishra           1038\n",
              "Name: bowler, dtype: int64"
            ]
          },
          "metadata": {},
          "execution_count": 25
        }
      ]
    },
    {
      "cell_type": "markdown",
      "source": [
        "Q15) batsman which when on non-striker end, there has been most dismissals\n"
      ],
      "metadata": {
        "id": "CzqkxGQWUeZZ"
      }
    },
    {
      "cell_type": "code",
      "source": [
        "batsman_out=delivery[delivery['batsman']==delivery['player_dismissed']] #filter batsman when out\n",
        "batsman_out['non_striker'].value_counts().sort_values(ascending=False).head() "
      ],
      "metadata": {
        "colab": {
          "base_uri": "https://localhost:8080/"
        },
        "id": "mgTiOwS4Tisc",
        "outputId": "aa3862c4-8512-4630-fb3a-08c4658c7f3b"
      },
      "execution_count": 26,
      "outputs": [
        {
          "output_type": "execute_result",
          "data": {
            "text/plain": [
              "RG Sharma     170\n",
              "V Kohli       150\n",
              "SK Raina      138\n",
              "G Gambhir     135\n",
              "RV Uthappa    134\n",
              "Name: non_striker, dtype: int64"
            ]
          },
          "metadata": {},
          "execution_count": 26
        }
      ]
    },
    {
      "cell_type": "markdown",
      "source": [
        "\n",
        "Case 2: The striker and non-striker both can be dismissed"
      ],
      "metadata": {
        "id": "Y16-TQJhXbaG"
      }
    },
    {
      "cell_type": "code",
      "source": [
        "#case2\n",
        "#filter dataframe when batsman or nonstricker gets out\n",
        "df=delivery[(delivery['batsman']==delivery['player_dismissed']) | (delivery['non_striker']==delivery['player_dismissed'])]\n",
        "df['non_striker'].value_counts().sort_values(ascending=False).head()"
      ],
      "metadata": {
        "colab": {
          "base_uri": "https://localhost:8080/"
        },
        "id": "jlKUmofTVS1v",
        "outputId": "5505e5cd-ba82-4942-b78f-db9d6493327a"
      },
      "execution_count": 27,
      "outputs": [
        {
          "output_type": "execute_result",
          "data": {
            "text/plain": [
              "RG Sharma     171\n",
              "V Kohli       151\n",
              "SK Raina      145\n",
              "G Gambhir     142\n",
              "RV Uthappa    138\n",
              "Name: non_striker, dtype: int64"
            ]
          },
          "metadata": {},
          "execution_count": 27
        }
      ]
    },
    {
      "cell_type": "markdown",
      "source": [
        "Q16) make a function with one argument:- batsman name and return the name of the team that batsman has hit most runs against\n"
      ],
      "metadata": {
        "id": "-ATHVafWZ5zc"
      }
    },
    {
      "cell_type": "code",
      "source": [
        "delivery.head()\n",
        "def most_runs_against_team(batsman):\n",
        "   '''this function returns team against which batsman has scored max score'''\n",
        "   batter_df=delivery[delivery['batsman']==batsman]\n",
        "   result=batter_df.groupby(['bowling_team'])['batsman_runs'].sum().sort_values().tail(1)\n",
        "   print(f\"{batsman} has scored higest runs {result.values[0]} against team {result.index[0]}\")"
      ],
      "metadata": {
        "id": "fHSopXN_YFMQ"
      },
      "execution_count": 28,
      "outputs": []
    },
    {
      "cell_type": "code",
      "source": [
        "most_runs_against_team('SK Raina')"
      ],
      "metadata": {
        "colab": {
          "base_uri": "https://localhost:8080/"
        },
        "id": "oybG9NwkaNaa",
        "outputId": "b1a9f85a-a801-44f5-e857-0e7b7286d9c4"
      },
      "execution_count": 29,
      "outputs": [
        {
          "output_type": "stream",
          "name": "stdout",
          "text": [
            "SK Raina has scored higest runs 708 against team Mumbai Indians\n"
          ]
        }
      ]
    },
    {
      "cell_type": "markdown",
      "source": [
        "Q17) make a function which takes one argument:- batsman and return which bowler has givn highest number of runs to that batsman\n"
      ],
      "metadata": {
        "id": "Zow_S9IzdH3Y"
      }
    },
    {
      "cell_type": "code",
      "source": [
        "def higest_runs_against_bowler(batsman):\n",
        "  '''this function returns bowler against which batsman has made maximum score'''\n",
        "  batter_df=delivery[delivery['batsman']==batsman]\n",
        "  result=batter_df.groupby('bowler')['batsman_runs'].sum().sort_values(ascending=False).head()\n",
        "  print(f\"{batsman} has scored higest runs {result.values[0]} against bowler {result.index[0]}\")"
      ],
      "metadata": {
        "id": "Exs5DKzfcJ8q"
      },
      "execution_count": 30,
      "outputs": []
    },
    {
      "cell_type": "code",
      "source": [
        "higest_runs_against_bowler('V Kohli')"
      ],
      "metadata": {
        "colab": {
          "base_uri": "https://localhost:8080/"
        },
        "id": "4atUIyGsdxwQ",
        "outputId": "327192ed-d954-4f53-bdde-0c081ffee0e2"
      },
      "execution_count": 31,
      "outputs": [
        {
          "output_type": "stream",
          "name": "stdout",
          "text": [
            "V Kohli has scored higest runs 149 against bowler A Mishra\n"
          ]
        }
      ]
    },
    {
      "cell_type": "markdown",
      "source": [
        "Q18)in each over which team has hit how many sixes\n"
      ],
      "metadata": {
        "id": "Ghe4wSqreYM1"
      }
    },
    {
      "cell_type": "code",
      "source": [
        "delivery_sixes=delivery[delivery['batsman_runs']==6] #datframe containing only sixes\n",
        "delivery_sixes.pivot_table(index='batting_team', columns='over',values='batsman_runs', aggfunc='count')"
      ],
      "metadata": {
        "colab": {
          "base_uri": "https://localhost:8080/",
          "height": 520
        },
        "id": "sEUVzPQtd0TY",
        "outputId": "9dafc865-4134-480b-d50e-96a9f0b1af2e"
      },
      "execution_count": 32,
      "outputs": [
        {
          "output_type": "execute_result",
          "data": {
            "text/plain": [
              "over                           1     2     3     4     5     6     7     8     9     10    11    12    13    14    15    16    17    18    19    20\n",
              "batting_team                                                                                                                                       \n",
              "Chennai Super Kings           5.0  17.0  37.0  34.0  41.0  43.0  22.0  25.0  23.0  23.0  36.0  36.0  35.0  45.0  43.0  46.0  51.0  58.0  54.0  68.0\n",
              "Deccan Chargers               3.0  21.0  11.0  17.0  27.0  22.0  11.0  13.0  17.0  14.0  15.0  26.0  23.0  22.0  20.0  21.0  38.0  37.0  23.0  19.0\n",
              "Delhi Daredevils             14.0  19.0  30.0  41.0  29.0  27.0  20.0  26.0  32.0  24.0  34.0  38.0  37.0  35.0  28.0  43.0  56.0  44.0  59.0  50.0\n",
              "Gujarat Lions                 4.0   6.0  14.0   9.0  11.0  12.0  10.0   6.0  11.0   8.0   5.0   7.0   5.0   8.0   5.0   5.0   7.0   9.0   9.0   4.0\n",
              "Kings XI Punjab              10.0  19.0  27.0  36.0  30.0  39.0  19.0  35.0  36.0  29.0  37.0  38.0  47.0  41.0  51.0  59.0  39.0  57.0  53.0  60.0\n",
              "Kochi Tuskers Kerala          2.0   4.0   3.0   3.0   3.0   3.0   2.0   2.0   1.0   3.0   1.0   3.0   2.0   3.0   4.0   NaN   3.0   4.0   5.0   2.0\n",
              "Kolkata Knight Riders        10.0  13.0  28.0  35.0  25.0  34.0  26.0  25.0  27.0  21.0  34.0  32.0  42.0  31.0  40.0  50.0  55.0  52.0  45.0  34.0\n",
              "Mumbai Indians                9.0  17.0  22.0  28.0  43.0  50.0  18.0  23.0  35.0  22.0  33.0  49.0  51.0  50.0  53.0  66.0  60.0  86.0  72.0  89.0\n",
              "Pune Warriors                 5.0   6.0   6.0   7.0   7.0   3.0   5.0  10.0   9.0   6.0  13.0   5.0  10.0  13.0  13.0  16.0  13.0  12.0  18.0  19.0\n",
              "Rajasthan Royals             12.0   7.0  13.0  21.0  23.0  24.0  15.0  24.0  20.0  26.0  30.0  33.0  39.0  38.0  34.0  37.0  45.0  34.0  37.0  26.0\n",
              "Rising Pune Supergiant        1.0   NaN   2.0   5.0   8.0   6.0   1.0   NaN   3.0   8.0   3.0   2.0   7.0   4.0   5.0   5.0   2.0   2.0  14.0  11.0\n",
              "Rising Pune Supergiants       NaN   2.0   1.0   1.0   5.0   5.0   4.0   3.0   1.0   1.0   2.0   2.0   1.0   1.0   7.0   6.0   6.0   9.0   2.0   9.0\n",
              "Royal Challengers Bangalore  20.0  28.0  40.0  43.0  40.0  29.0  18.0  34.0  47.0  36.0  47.0  36.0  51.0  53.0  54.0  71.0  61.0  82.0  74.0  71.0\n",
              "Sunrisers Hyderabad           3.0  12.0  16.0   8.0  17.0  10.0  13.0  19.0  15.0  12.0  11.0  11.0  19.0  18.0  33.0  22.0  18.0  37.0  42.0  28.0"
            ],
            "text/html": [
              "\n",
              "  <div id=\"df-40002fd6-5647-4d7a-8057-202f5e17b61c\">\n",
              "    <div class=\"colab-df-container\">\n",
              "      <div>\n",
              "<style scoped>\n",
              "    .dataframe tbody tr th:only-of-type {\n",
              "        vertical-align: middle;\n",
              "    }\n",
              "\n",
              "    .dataframe tbody tr th {\n",
              "        vertical-align: top;\n",
              "    }\n",
              "\n",
              "    .dataframe thead th {\n",
              "        text-align: right;\n",
              "    }\n",
              "</style>\n",
              "<table border=\"1\" class=\"dataframe\">\n",
              "  <thead>\n",
              "    <tr style=\"text-align: right;\">\n",
              "      <th>over</th>\n",
              "      <th>1</th>\n",
              "      <th>2</th>\n",
              "      <th>3</th>\n",
              "      <th>4</th>\n",
              "      <th>5</th>\n",
              "      <th>6</th>\n",
              "      <th>7</th>\n",
              "      <th>8</th>\n",
              "      <th>9</th>\n",
              "      <th>10</th>\n",
              "      <th>11</th>\n",
              "      <th>12</th>\n",
              "      <th>13</th>\n",
              "      <th>14</th>\n",
              "      <th>15</th>\n",
              "      <th>16</th>\n",
              "      <th>17</th>\n",
              "      <th>18</th>\n",
              "      <th>19</th>\n",
              "      <th>20</th>\n",
              "    </tr>\n",
              "    <tr>\n",
              "      <th>batting_team</th>\n",
              "      <th></th>\n",
              "      <th></th>\n",
              "      <th></th>\n",
              "      <th></th>\n",
              "      <th></th>\n",
              "      <th></th>\n",
              "      <th></th>\n",
              "      <th></th>\n",
              "      <th></th>\n",
              "      <th></th>\n",
              "      <th></th>\n",
              "      <th></th>\n",
              "      <th></th>\n",
              "      <th></th>\n",
              "      <th></th>\n",
              "      <th></th>\n",
              "      <th></th>\n",
              "      <th></th>\n",
              "      <th></th>\n",
              "      <th></th>\n",
              "    </tr>\n",
              "  </thead>\n",
              "  <tbody>\n",
              "    <tr>\n",
              "      <th>Chennai Super Kings</th>\n",
              "      <td>5.0</td>\n",
              "      <td>17.0</td>\n",
              "      <td>37.0</td>\n",
              "      <td>34.0</td>\n",
              "      <td>41.0</td>\n",
              "      <td>43.0</td>\n",
              "      <td>22.0</td>\n",
              "      <td>25.0</td>\n",
              "      <td>23.0</td>\n",
              "      <td>23.0</td>\n",
              "      <td>36.0</td>\n",
              "      <td>36.0</td>\n",
              "      <td>35.0</td>\n",
              "      <td>45.0</td>\n",
              "      <td>43.0</td>\n",
              "      <td>46.0</td>\n",
              "      <td>51.0</td>\n",
              "      <td>58.0</td>\n",
              "      <td>54.0</td>\n",
              "      <td>68.0</td>\n",
              "    </tr>\n",
              "    <tr>\n",
              "      <th>Deccan Chargers</th>\n",
              "      <td>3.0</td>\n",
              "      <td>21.0</td>\n",
              "      <td>11.0</td>\n",
              "      <td>17.0</td>\n",
              "      <td>27.0</td>\n",
              "      <td>22.0</td>\n",
              "      <td>11.0</td>\n",
              "      <td>13.0</td>\n",
              "      <td>17.0</td>\n",
              "      <td>14.0</td>\n",
              "      <td>15.0</td>\n",
              "      <td>26.0</td>\n",
              "      <td>23.0</td>\n",
              "      <td>22.0</td>\n",
              "      <td>20.0</td>\n",
              "      <td>21.0</td>\n",
              "      <td>38.0</td>\n",
              "      <td>37.0</td>\n",
              "      <td>23.0</td>\n",
              "      <td>19.0</td>\n",
              "    </tr>\n",
              "    <tr>\n",
              "      <th>Delhi Daredevils</th>\n",
              "      <td>14.0</td>\n",
              "      <td>19.0</td>\n",
              "      <td>30.0</td>\n",
              "      <td>41.0</td>\n",
              "      <td>29.0</td>\n",
              "      <td>27.0</td>\n",
              "      <td>20.0</td>\n",
              "      <td>26.0</td>\n",
              "      <td>32.0</td>\n",
              "      <td>24.0</td>\n",
              "      <td>34.0</td>\n",
              "      <td>38.0</td>\n",
              "      <td>37.0</td>\n",
              "      <td>35.0</td>\n",
              "      <td>28.0</td>\n",
              "      <td>43.0</td>\n",
              "      <td>56.0</td>\n",
              "      <td>44.0</td>\n",
              "      <td>59.0</td>\n",
              "      <td>50.0</td>\n",
              "    </tr>\n",
              "    <tr>\n",
              "      <th>Gujarat Lions</th>\n",
              "      <td>4.0</td>\n",
              "      <td>6.0</td>\n",
              "      <td>14.0</td>\n",
              "      <td>9.0</td>\n",
              "      <td>11.0</td>\n",
              "      <td>12.0</td>\n",
              "      <td>10.0</td>\n",
              "      <td>6.0</td>\n",
              "      <td>11.0</td>\n",
              "      <td>8.0</td>\n",
              "      <td>5.0</td>\n",
              "      <td>7.0</td>\n",
              "      <td>5.0</td>\n",
              "      <td>8.0</td>\n",
              "      <td>5.0</td>\n",
              "      <td>5.0</td>\n",
              "      <td>7.0</td>\n",
              "      <td>9.0</td>\n",
              "      <td>9.0</td>\n",
              "      <td>4.0</td>\n",
              "    </tr>\n",
              "    <tr>\n",
              "      <th>Kings XI Punjab</th>\n",
              "      <td>10.0</td>\n",
              "      <td>19.0</td>\n",
              "      <td>27.0</td>\n",
              "      <td>36.0</td>\n",
              "      <td>30.0</td>\n",
              "      <td>39.0</td>\n",
              "      <td>19.0</td>\n",
              "      <td>35.0</td>\n",
              "      <td>36.0</td>\n",
              "      <td>29.0</td>\n",
              "      <td>37.0</td>\n",
              "      <td>38.0</td>\n",
              "      <td>47.0</td>\n",
              "      <td>41.0</td>\n",
              "      <td>51.0</td>\n",
              "      <td>59.0</td>\n",
              "      <td>39.0</td>\n",
              "      <td>57.0</td>\n",
              "      <td>53.0</td>\n",
              "      <td>60.0</td>\n",
              "    </tr>\n",
              "    <tr>\n",
              "      <th>Kochi Tuskers Kerala</th>\n",
              "      <td>2.0</td>\n",
              "      <td>4.0</td>\n",
              "      <td>3.0</td>\n",
              "      <td>3.0</td>\n",
              "      <td>3.0</td>\n",
              "      <td>3.0</td>\n",
              "      <td>2.0</td>\n",
              "      <td>2.0</td>\n",
              "      <td>1.0</td>\n",
              "      <td>3.0</td>\n",
              "      <td>1.0</td>\n",
              "      <td>3.0</td>\n",
              "      <td>2.0</td>\n",
              "      <td>3.0</td>\n",
              "      <td>4.0</td>\n",
              "      <td>NaN</td>\n",
              "      <td>3.0</td>\n",
              "      <td>4.0</td>\n",
              "      <td>5.0</td>\n",
              "      <td>2.0</td>\n",
              "    </tr>\n",
              "    <tr>\n",
              "      <th>Kolkata Knight Riders</th>\n",
              "      <td>10.0</td>\n",
              "      <td>13.0</td>\n",
              "      <td>28.0</td>\n",
              "      <td>35.0</td>\n",
              "      <td>25.0</td>\n",
              "      <td>34.0</td>\n",
              "      <td>26.0</td>\n",
              "      <td>25.0</td>\n",
              "      <td>27.0</td>\n",
              "      <td>21.0</td>\n",
              "      <td>34.0</td>\n",
              "      <td>32.0</td>\n",
              "      <td>42.0</td>\n",
              "      <td>31.0</td>\n",
              "      <td>40.0</td>\n",
              "      <td>50.0</td>\n",
              "      <td>55.0</td>\n",
              "      <td>52.0</td>\n",
              "      <td>45.0</td>\n",
              "      <td>34.0</td>\n",
              "    </tr>\n",
              "    <tr>\n",
              "      <th>Mumbai Indians</th>\n",
              "      <td>9.0</td>\n",
              "      <td>17.0</td>\n",
              "      <td>22.0</td>\n",
              "      <td>28.0</td>\n",
              "      <td>43.0</td>\n",
              "      <td>50.0</td>\n",
              "      <td>18.0</td>\n",
              "      <td>23.0</td>\n",
              "      <td>35.0</td>\n",
              "      <td>22.0</td>\n",
              "      <td>33.0</td>\n",
              "      <td>49.0</td>\n",
              "      <td>51.0</td>\n",
              "      <td>50.0</td>\n",
              "      <td>53.0</td>\n",
              "      <td>66.0</td>\n",
              "      <td>60.0</td>\n",
              "      <td>86.0</td>\n",
              "      <td>72.0</td>\n",
              "      <td>89.0</td>\n",
              "    </tr>\n",
              "    <tr>\n",
              "      <th>Pune Warriors</th>\n",
              "      <td>5.0</td>\n",
              "      <td>6.0</td>\n",
              "      <td>6.0</td>\n",
              "      <td>7.0</td>\n",
              "      <td>7.0</td>\n",
              "      <td>3.0</td>\n",
              "      <td>5.0</td>\n",
              "      <td>10.0</td>\n",
              "      <td>9.0</td>\n",
              "      <td>6.0</td>\n",
              "      <td>13.0</td>\n",
              "      <td>5.0</td>\n",
              "      <td>10.0</td>\n",
              "      <td>13.0</td>\n",
              "      <td>13.0</td>\n",
              "      <td>16.0</td>\n",
              "      <td>13.0</td>\n",
              "      <td>12.0</td>\n",
              "      <td>18.0</td>\n",
              "      <td>19.0</td>\n",
              "    </tr>\n",
              "    <tr>\n",
              "      <th>Rajasthan Royals</th>\n",
              "      <td>12.0</td>\n",
              "      <td>7.0</td>\n",
              "      <td>13.0</td>\n",
              "      <td>21.0</td>\n",
              "      <td>23.0</td>\n",
              "      <td>24.0</td>\n",
              "      <td>15.0</td>\n",
              "      <td>24.0</td>\n",
              "      <td>20.0</td>\n",
              "      <td>26.0</td>\n",
              "      <td>30.0</td>\n",
              "      <td>33.0</td>\n",
              "      <td>39.0</td>\n",
              "      <td>38.0</td>\n",
              "      <td>34.0</td>\n",
              "      <td>37.0</td>\n",
              "      <td>45.0</td>\n",
              "      <td>34.0</td>\n",
              "      <td>37.0</td>\n",
              "      <td>26.0</td>\n",
              "    </tr>\n",
              "    <tr>\n",
              "      <th>Rising Pune Supergiant</th>\n",
              "      <td>1.0</td>\n",
              "      <td>NaN</td>\n",
              "      <td>2.0</td>\n",
              "      <td>5.0</td>\n",
              "      <td>8.0</td>\n",
              "      <td>6.0</td>\n",
              "      <td>1.0</td>\n",
              "      <td>NaN</td>\n",
              "      <td>3.0</td>\n",
              "      <td>8.0</td>\n",
              "      <td>3.0</td>\n",
              "      <td>2.0</td>\n",
              "      <td>7.0</td>\n",
              "      <td>4.0</td>\n",
              "      <td>5.0</td>\n",
              "      <td>5.0</td>\n",
              "      <td>2.0</td>\n",
              "      <td>2.0</td>\n",
              "      <td>14.0</td>\n",
              "      <td>11.0</td>\n",
              "    </tr>\n",
              "    <tr>\n",
              "      <th>Rising Pune Supergiants</th>\n",
              "      <td>NaN</td>\n",
              "      <td>2.0</td>\n",
              "      <td>1.0</td>\n",
              "      <td>1.0</td>\n",
              "      <td>5.0</td>\n",
              "      <td>5.0</td>\n",
              "      <td>4.0</td>\n",
              "      <td>3.0</td>\n",
              "      <td>1.0</td>\n",
              "      <td>1.0</td>\n",
              "      <td>2.0</td>\n",
              "      <td>2.0</td>\n",
              "      <td>1.0</td>\n",
              "      <td>1.0</td>\n",
              "      <td>7.0</td>\n",
              "      <td>6.0</td>\n",
              "      <td>6.0</td>\n",
              "      <td>9.0</td>\n",
              "      <td>2.0</td>\n",
              "      <td>9.0</td>\n",
              "    </tr>\n",
              "    <tr>\n",
              "      <th>Royal Challengers Bangalore</th>\n",
              "      <td>20.0</td>\n",
              "      <td>28.0</td>\n",
              "      <td>40.0</td>\n",
              "      <td>43.0</td>\n",
              "      <td>40.0</td>\n",
              "      <td>29.0</td>\n",
              "      <td>18.0</td>\n",
              "      <td>34.0</td>\n",
              "      <td>47.0</td>\n",
              "      <td>36.0</td>\n",
              "      <td>47.0</td>\n",
              "      <td>36.0</td>\n",
              "      <td>51.0</td>\n",
              "      <td>53.0</td>\n",
              "      <td>54.0</td>\n",
              "      <td>71.0</td>\n",
              "      <td>61.0</td>\n",
              "      <td>82.0</td>\n",
              "      <td>74.0</td>\n",
              "      <td>71.0</td>\n",
              "    </tr>\n",
              "    <tr>\n",
              "      <th>Sunrisers Hyderabad</th>\n",
              "      <td>3.0</td>\n",
              "      <td>12.0</td>\n",
              "      <td>16.0</td>\n",
              "      <td>8.0</td>\n",
              "      <td>17.0</td>\n",
              "      <td>10.0</td>\n",
              "      <td>13.0</td>\n",
              "      <td>19.0</td>\n",
              "      <td>15.0</td>\n",
              "      <td>12.0</td>\n",
              "      <td>11.0</td>\n",
              "      <td>11.0</td>\n",
              "      <td>19.0</td>\n",
              "      <td>18.0</td>\n",
              "      <td>33.0</td>\n",
              "      <td>22.0</td>\n",
              "      <td>18.0</td>\n",
              "      <td>37.0</td>\n",
              "      <td>42.0</td>\n",
              "      <td>28.0</td>\n",
              "    </tr>\n",
              "  </tbody>\n",
              "</table>\n",
              "</div>\n",
              "      <button class=\"colab-df-convert\" onclick=\"convertToInteractive('df-40002fd6-5647-4d7a-8057-202f5e17b61c')\"\n",
              "              title=\"Convert this dataframe to an interactive table.\"\n",
              "              style=\"display:none;\">\n",
              "        \n",
              "  <svg xmlns=\"http://www.w3.org/2000/svg\" height=\"24px\"viewBox=\"0 0 24 24\"\n",
              "       width=\"24px\">\n",
              "    <path d=\"M0 0h24v24H0V0z\" fill=\"none\"/>\n",
              "    <path d=\"M18.56 5.44l.94 2.06.94-2.06 2.06-.94-2.06-.94-.94-2.06-.94 2.06-2.06.94zm-11 1L8.5 8.5l.94-2.06 2.06-.94-2.06-.94L8.5 2.5l-.94 2.06-2.06.94zm10 10l.94 2.06.94-2.06 2.06-.94-2.06-.94-.94-2.06-.94 2.06-2.06.94z\"/><path d=\"M17.41 7.96l-1.37-1.37c-.4-.4-.92-.59-1.43-.59-.52 0-1.04.2-1.43.59L10.3 9.45l-7.72 7.72c-.78.78-.78 2.05 0 2.83L4 21.41c.39.39.9.59 1.41.59.51 0 1.02-.2 1.41-.59l7.78-7.78 2.81-2.81c.8-.78.8-2.07 0-2.86zM5.41 20L4 18.59l7.72-7.72 1.47 1.35L5.41 20z\"/>\n",
              "  </svg>\n",
              "      </button>\n",
              "      \n",
              "  <style>\n",
              "    .colab-df-container {\n",
              "      display:flex;\n",
              "      flex-wrap:wrap;\n",
              "      gap: 12px;\n",
              "    }\n",
              "\n",
              "    .colab-df-convert {\n",
              "      background-color: #E8F0FE;\n",
              "      border: none;\n",
              "      border-radius: 50%;\n",
              "      cursor: pointer;\n",
              "      display: none;\n",
              "      fill: #1967D2;\n",
              "      height: 32px;\n",
              "      padding: 0 0 0 0;\n",
              "      width: 32px;\n",
              "    }\n",
              "\n",
              "    .colab-df-convert:hover {\n",
              "      background-color: #E2EBFA;\n",
              "      box-shadow: 0px 1px 2px rgba(60, 64, 67, 0.3), 0px 1px 3px 1px rgba(60, 64, 67, 0.15);\n",
              "      fill: #174EA6;\n",
              "    }\n",
              "\n",
              "    [theme=dark] .colab-df-convert {\n",
              "      background-color: #3B4455;\n",
              "      fill: #D2E3FC;\n",
              "    }\n",
              "\n",
              "    [theme=dark] .colab-df-convert:hover {\n",
              "      background-color: #434B5C;\n",
              "      box-shadow: 0px 1px 3px 1px rgba(0, 0, 0, 0.15);\n",
              "      filter: drop-shadow(0px 1px 2px rgba(0, 0, 0, 0.3));\n",
              "      fill: #FFFFFF;\n",
              "    }\n",
              "  </style>\n",
              "\n",
              "      <script>\n",
              "        const buttonEl =\n",
              "          document.querySelector('#df-40002fd6-5647-4d7a-8057-202f5e17b61c button.colab-df-convert');\n",
              "        buttonEl.style.display =\n",
              "          google.colab.kernel.accessAllowed ? 'block' : 'none';\n",
              "\n",
              "        async function convertToInteractive(key) {\n",
              "          const element = document.querySelector('#df-40002fd6-5647-4d7a-8057-202f5e17b61c');\n",
              "          const dataTable =\n",
              "            await google.colab.kernel.invokeFunction('convertToInteractive',\n",
              "                                                     [key], {});\n",
              "          if (!dataTable) return;\n",
              "\n",
              "          const docLinkHtml = 'Like what you see? Visit the ' +\n",
              "            '<a target=\"_blank\" href=https://colab.research.google.com/notebooks/data_table.ipynb>data table notebook</a>'\n",
              "            + ' to learn more about interactive tables.';\n",
              "          element.innerHTML = '';\n",
              "          dataTable['output_type'] = 'display_data';\n",
              "          await google.colab.output.renderOutput(dataTable, element);\n",
              "          const docLink = document.createElement('div');\n",
              "          docLink.innerHTML = docLinkHtml;\n",
              "          element.appendChild(docLink);\n",
              "        }\n",
              "      </script>\n",
              "    </div>\n",
              "  </div>\n",
              "  "
            ]
          },
          "metadata": {},
          "execution_count": 32
        }
      ]
    },
    {
      "cell_type": "code",
      "source": [
        "#heatmap for batsmans total score with respect to each over\n",
        "import seaborn as sns\n",
        "sns.heatmap(delivery_sixes.pivot_table(index='batting_team', columns='over',values='batsman_runs', aggfunc='count'))"
      ],
      "metadata": {
        "colab": {
          "base_uri": "https://localhost:8080/",
          "height": 296
        },
        "id": "Erq2dlzZgnaC",
        "outputId": "2ffe16e9-f093-411d-f831-2fa965002972"
      },
      "execution_count": 33,
      "outputs": [
        {
          "output_type": "execute_result",
          "data": {
            "text/plain": [
              "<matplotlib.axes._subplots.AxesSubplot at 0x7f0718b26e20>"
            ]
          },
          "metadata": {},
          "execution_count": 33
        },
        {
          "output_type": "display_data",
          "data": {
            "text/plain": [
              "<Figure size 432x288 with 2 Axes>"
            ],
            "image/png": "[encoded data removed]"
          },
          "metadata": {
            "needs_background": "light"
          }
        }
      ]
    },
    {
      "cell_type": "markdown",
      "source": [
        "Q19) find the orange cap holders of each season\n"
      ],
      "metadata": {
        "id": "UHiqhdd7hEnW"
      }
    },
    {
      "cell_type": "code",
      "source": [
        "#load datset\n",
        "ball_by_ball=pd.read_csv(\"/content/drive/MyDrive/campus x /numpy,pandas/week7/session 20 Pandas Merge/session 20 task/IPL_Ball_by_Ball_2008_2022.csv\")"
      ],
      "metadata": {
        "id": "xOLcXi8ihGu8"
      },
      "execution_count": 34,
      "outputs": []
    },
    {
      "cell_type": "code",
      "source": [
        "#merge dataset with ipl datset\n",
        "merged_df=ipl.merge(ball_by_ball, how='inner', on='ID')\n",
        "merged_df.info()"
      ],
      "metadata": {
        "colab": {
          "base_uri": "https://localhost:8080/"
        },
        "id": "XHbyTOyzhqol",
        "outputId": "0f229793-d977-4eb6-edca-d25ab7d4b808"
      },
      "execution_count": 35,
      "outputs": [
        {
          "output_type": "stream",
          "name": "stdout",
          "text": [
            "<class 'pandas.core.frame.DataFrame'>\n",
            "Int64Index: 225954 entries, 0 to 225953\n",
            "Data columns (total 36 columns):\n",
            " #   Column             Non-Null Count   Dtype  \n",
            "---  ------             --------------   -----  \n",
            " 0   ID                 225954 non-null  int64  \n",
            " 1   City               213557 non-null  object \n",
            " 2   Date               225954 non-null  object \n",
            " 3   Season             225954 non-null  object \n",
            " 4   MatchNumber        225954 non-null  object \n",
            " 5   Team1              225954 non-null  object \n",
            " 6   Team2              225954 non-null  object \n",
            " 7   Venue              225954 non-null  object \n",
            " 8   TossWinner         225954 non-null  object \n",
            " 9   TossDecision       225954 non-null  object \n",
            " 10  SuperOver          225582 non-null  object \n",
            " 11  WinningTeam        225582 non-null  object \n",
            " 12  WonBy              225954 non-null  object \n",
            " 13  Margin             221948 non-null  float64\n",
            " 14  method             3208 non-null    object \n",
            " 15  Player_of_Match    225582 non-null  object \n",
            " 16  Team1Players       225954 non-null  object \n",
            " 17  Team2Players       225954 non-null  object \n",
            " 18  Umpire1            225954 non-null  object \n",
            " 19  Umpire2            225954 non-null  object \n",
            " 20  innings            225954 non-null  int64  \n",
            " 21  overs              225954 non-null  int64  \n",
            " 22  ballnumber         225954 non-null  int64  \n",
            " 23  batter             225954 non-null  object \n",
            " 24  bowler             225954 non-null  object \n",
            " 25  non-striker        225954 non-null  object \n",
            " 26  extra_type         12049 non-null   object \n",
            " 27  batsman_run        225954 non-null  int64  \n",
            " 28  extras_run         225954 non-null  int64  \n",
            " 29  total_run          225954 non-null  int64  \n",
            " 30  non_boundary       225954 non-null  int64  \n",
            " 31  isWicketDelivery   225954 non-null  int64  \n",
            " 32  player_out         11151 non-null   object \n",
            " 33  kind               11151 non-null   object \n",
            " 34  fielders_involved  7988 non-null    object \n",
            " 35  BattingTeam        225954 non-null  object \n",
            "dtypes: float64(1), int64(9), object(26)\n",
            "memory usage: 63.8+ MB\n"
          ]
        }
      ]
    },
    {
      "cell_type": "code",
      "source": [
        "#batsman who has score max runs in a season is an orange cap holder\n",
        "orange_df=merged_df.groupby(['Season','batter'])['batsman_run'].sum().reset_index()\n",
        "orange_df.sort_values('batsman_run', ascending=False).drop_duplicates('Season',keep='first').sort_values('Season') \n",
        "#here drop duplicates will remove all the lower values from the data and only keeps higer values   "
      ],
      "metadata": {
        "colab": {
          "base_uri": "https://localhost:8080/",
          "height": 520
        },
        "id": "fmaHl_gHjxHV",
        "outputId": "80d1cacb-cb66-4c71-9cae-23ce9db57032"
      },
      "execution_count": 36,
      "outputs": [
        {
          "output_type": "execute_result",
          "data": {
            "text/plain": [
              "       Season         batter  batsman_run\n",
              "115   2007/08       SE Marsh          616\n",
              "229      2009      ML Hayden          572\n",
              "446   2009/10   SR Tendulkar          618\n",
              "502      2011       CH Gayle          608\n",
              "684      2012       CH Gayle          733\n",
              "910      2013     MEK Hussey          733\n",
              "1088     2014     RV Uthappa          660\n",
              "1148     2015      DA Warner          562\n",
              "1383     2016        V Kohli          973\n",
              "1422     2017      DA Warner          641\n",
              "1594     2018  KS Williamson          735\n",
              "1694     2019      DA Warner          692\n",
              "1866  2020/21       KL Rahul          676\n",
              "2051     2021     RD Gaikwad          635\n",
              "2144     2022     JC Buttler          863"
            ],
            "text/html": [
              "\n",
              "  <div id=\"df-bd210959-084b-4384-a073-b7d789927859\">\n",
              "    <div class=\"colab-df-container\">\n",
              "      <div>\n",
              "<style scoped>\n",
              "    .dataframe tbody tr th:only-of-type {\n",
              "        vertical-align: middle;\n",
              "    }\n",
              "\n",
              "    .dataframe tbody tr th {\n",
              "        vertical-align: top;\n",
              "    }\n",
              "\n",
              "    .dataframe thead th {\n",
              "        text-align: right;\n",
              "    }\n",
              "</style>\n",
              "<table border=\"1\" class=\"dataframe\">\n",
              "  <thead>\n",
              "    <tr style=\"text-align: right;\">\n",
              "      <th></th>\n",
              "      <th>Season</th>\n",
              "      <th>batter</th>\n",
              "      <th>batsman_run</th>\n",
              "    </tr>\n",
              "  </thead>\n",
              "  <tbody>\n",
              "    <tr>\n",
              "      <th>115</th>\n",
              "      <td>2007/08</td>\n",
              "      <td>SE Marsh</td>\n",
              "      <td>616</td>\n",
              "    </tr>\n",
              "    <tr>\n",
              "      <th>229</th>\n",
              "      <td>2009</td>\n",
              "      <td>ML Hayden</td>\n",
              "      <td>572</td>\n",
              "    </tr>\n",
              "    <tr>\n",
              "      <th>446</th>\n",
              "      <td>2009/10</td>\n",
              "      <td>SR Tendulkar</td>\n",
              "      <td>618</td>\n",
              "    </tr>\n",
              "    <tr>\n",
              "      <th>502</th>\n",
              "      <td>2011</td>\n",
              "      <td>CH Gayle</td>\n",
              "      <td>608</td>\n",
              "    </tr>\n",
              "    <tr>\n",
              "      <th>684</th>\n",
              "      <td>2012</td>\n",
              "      <td>CH Gayle</td>\n",
              "      <td>733</td>\n",
              "    </tr>\n",
              "    <tr>\n",
              "      <th>910</th>\n",
              "      <td>2013</td>\n",
              "      <td>MEK Hussey</td>\n",
              "      <td>733</td>\n",
              "    </tr>\n",
              "    <tr>\n",
              "      <th>1088</th>\n",
              "      <td>2014</td>\n",
              "      <td>RV Uthappa</td>\n",
              "      <td>660</td>\n",
              "    </tr>\n",
              "    <tr>\n",
              "      <th>1148</th>\n",
              "      <td>2015</td>\n",
              "      <td>DA Warner</td>\n",
              "      <td>562</td>\n",
              "    </tr>\n",
              "    <tr>\n",
              "      <th>1383</th>\n",
              "      <td>2016</td>\n",
              "      <td>V Kohli</td>\n",
              "      <td>973</td>\n",
              "    </tr>\n",
              "    <tr>\n",
              "      <th>1422</th>\n",
              "      <td>2017</td>\n",
              "      <td>DA Warner</td>\n",
              "      <td>641</td>\n",
              "    </tr>\n",
              "    <tr>\n",
              "      <th>1594</th>\n",
              "      <td>2018</td>\n",
              "      <td>KS Williamson</td>\n",
              "      <td>735</td>\n",
              "    </tr>\n",
              "    <tr>\n",
              "      <th>1694</th>\n",
              "      <td>2019</td>\n",
              "      <td>DA Warner</td>\n",
              "      <td>692</td>\n",
              "    </tr>\n",
              "    <tr>\n",
              "      <th>1866</th>\n",
              "      <td>2020/21</td>\n",
              "      <td>KL Rahul</td>\n",
              "      <td>676</td>\n",
              "    </tr>\n",
              "    <tr>\n",
              "      <th>2051</th>\n",
              "      <td>2021</td>\n",
              "      <td>RD Gaikwad</td>\n",
              "      <td>635</td>\n",
              "    </tr>\n",
              "    <tr>\n",
              "      <th>2144</th>\n",
              "      <td>2022</td>\n",
              "      <td>JC Buttler</td>\n",
              "      <td>863</td>\n",
              "    </tr>\n",
              "  </tbody>\n",
              "</table>\n",
              "</div>\n",
              "      <button class=\"colab-df-convert\" onclick=\"convertToInteractive('df-bd210959-084b-4384-a073-b7d789927859')\"\n",
              "              title=\"Convert this dataframe to an interactive table.\"\n",
              "              style=\"display:none;\">\n",
              "        \n",
              "  <svg xmlns=\"http://www.w3.org/2000/svg\" height=\"24px\"viewBox=\"0 0 24 24\"\n",
              "       width=\"24px\">\n",
              "    <path d=\"M0 0h24v24H0V0z\" fill=\"none\"/>\n",
              "    <path d=\"M18.56 5.44l.94 2.06.94-2.06 2.06-.94-2.06-.94-.94-2.06-.94 2.06-2.06.94zm-11 1L8.5 8.5l.94-2.06 2.06-.94-2.06-.94L8.5 2.5l-.94 2.06-2.06.94zm10 10l.94 2.06.94-2.06 2.06-.94-2.06-.94-.94-2.06-.94 2.06-2.06.94z\"/><path d=\"M17.41 7.96l-1.37-1.37c-.4-.4-.92-.59-1.43-.59-.52 0-1.04.2-1.43.59L10.3 9.45l-7.72 7.72c-.78.78-.78 2.05 0 2.83L4 21.41c.39.39.9.59 1.41.59.51 0 1.02-.2 1.41-.59l7.78-7.78 2.81-2.81c.8-.78.8-2.07 0-2.86zM5.41 20L4 18.59l7.72-7.72 1.47 1.35L5.41 20z\"/>\n",
              "  </svg>\n",
              "      </button>\n",
              "      \n",
              "  <style>\n",
              "    .colab-df-container {\n",
              "      display:flex;\n",
              "      flex-wrap:wrap;\n",
              "      gap: 12px;\n",
              "    }\n",
              "\n",
              "    .colab-df-convert {\n",
              "      background-color: #E8F0FE;\n",
              "      border: none;\n",
              "      border-radius: 50%;\n",
              "      cursor: pointer;\n",
              "      display: none;\n",
              "      fill: #1967D2;\n",
              "      height: 32px;\n",
              "      padding: 0 0 0 0;\n",
              "      width: 32px;\n",
              "    }\n",
              "\n",
              "    .colab-df-convert:hover {\n",
              "      background-color: #E2EBFA;\n",
              "      box-shadow: 0px 1px 2px rgba(60, 64, 67, 0.3), 0px 1px 3px 1px rgba(60, 64, 67, 0.15);\n",
              "      fill: #174EA6;\n",
              "    }\n",
              "\n",
              "    [theme=dark] .colab-df-convert {\n",
              "      background-color: #3B4455;\n",
              "      fill: #D2E3FC;\n",
              "    }\n",
              "\n",
              "    [theme=dark] .colab-df-convert:hover {\n",
              "      background-color: #434B5C;\n",
              "      box-shadow: 0px 1px 3px 1px rgba(0, 0, 0, 0.15);\n",
              "      filter: drop-shadow(0px 1px 2px rgba(0, 0, 0, 0.3));\n",
              "      fill: #FFFFFF;\n",
              "    }\n",
              "  </style>\n",
              "\n",
              "      <script>\n",
              "        const buttonEl =\n",
              "          document.querySelector('#df-bd210959-084b-4384-a073-b7d789927859 button.colab-df-convert');\n",
              "        buttonEl.style.display =\n",
              "          google.colab.kernel.accessAllowed ? 'block' : 'none';\n",
              "\n",
              "        async function convertToInteractive(key) {\n",
              "          const element = document.querySelector('#df-bd210959-084b-4384-a073-b7d789927859');\n",
              "          const dataTable =\n",
              "            await google.colab.kernel.invokeFunction('convertToInteractive',\n",
              "                                                     [key], {});\n",
              "          if (!dataTable) return;\n",
              "\n",
              "          const docLinkHtml = 'Like what you see? Visit the ' +\n",
              "            '<a target=\"_blank\" href=https://colab.research.google.com/notebooks/data_table.ipynb>data table notebook</a>'\n",
              "            + ' to learn more about interactive tables.';\n",
              "          element.innerHTML = '';\n",
              "          dataTable['output_type'] = 'display_data';\n",
              "          await google.colab.output.renderOutput(dataTable, element);\n",
              "          const docLink = document.createElement('div');\n",
              "          docLink.innerHTML = docLinkHtml;\n",
              "          element.appendChild(docLink);\n",
              "        }\n",
              "      </script>\n",
              "    </div>\n",
              "  </div>\n",
              "  "
            ]
          },
          "metadata": {},
          "execution_count": 36
        }
      ]
    },
    {
      "cell_type": "markdown",
      "source": [
        "Q20) last 5 overs (death overs) mein sabse dangerous batsman, strike rate (no. of runs divided by number of balls)*100.\n",
        "base criteria is player has played 200 balls, (between 16 and 20 overs he has completed 200 balls)"
      ],
      "metadata": {
        "id": "3yHt8s6em6S0"
      }
    },
    {
      "cell_type": "code",
      "source": [
        "#filter data frame based on last overs\n",
        "deatho_df=merged_df[merged_df['overs']>15]\n",
        "\n",
        "#filter batters who has scored more than 200 runs in death over\n",
        "batters_list=deatho_df['batter'].value_counts()[deatho_df['batter'].value_counts()>=200].index\n",
        "deatho_df=deatho_df[deatho_df['batter'].isin(batters_list)]\n",
        "\n",
        "#gropby on batsman\n",
        "deatho_df=deatho_df.groupby(['batter']).agg({'ballnumber':'count','batsman_run':'sum'})\n",
        "deatho_df['Strike_rate']=deatho_df['batsman_run']/deatho_df['ballnumber']*100 #strike rate \n",
        "deatho_df=deatho_df.sort_values('Strike_rate',ascending=False)\n",
        "deatho_df.head() #top five batsman having higest strike rate in a death over\n"
      ],
      "metadata": {
        "colab": {
          "base_uri": "https://localhost:8080/",
          "height": 238
        },
        "id": "ghBgSBulk3Cu",
        "outputId": "10596f47-1446-4218-e9f0-d884df637a84"
      },
      "execution_count": 37,
      "outputs": [
        {
          "output_type": "execute_result",
          "data": {
            "text/plain": [
              "                ballnumber  batsman_run  Strike_rate\n",
              "batter                                              \n",
              "AB de Villiers         635         1421   223.779528\n",
              "V Kohli                511          991   193.933464\n",
              "AD Russell             441          854   193.650794\n",
              "CH Gayle               209          404   193.301435\n",
              "RR Pant                278          534   192.086331"
            ],
            "text/html": [
              "\n",
              "  <div id=\"df-643448a6-f7ff-4b0f-a7bd-82398718ec02\">\n",
              "    <div class=\"colab-df-container\">\n",
              "      <div>\n",
              "<style scoped>\n",
              "    .dataframe tbody tr th:only-of-type {\n",
              "        vertical-align: middle;\n",
              "    }\n",
              "\n",
              "    .dataframe tbody tr th {\n",
              "        vertical-align: top;\n",
              "    }\n",
              "\n",
              "    .dataframe thead th {\n",
              "        text-align: right;\n",
              "    }\n",
              "</style>\n",
              "<table border=\"1\" class=\"dataframe\">\n",
              "  <thead>\n",
              "    <tr style=\"text-align: right;\">\n",
              "      <th></th>\n",
              "      <th>ballnumber</th>\n",
              "      <th>batsman_run</th>\n",
              "      <th>Strike_rate</th>\n",
              "    </tr>\n",
              "    <tr>\n",
              "      <th>batter</th>\n",
              "      <th></th>\n",
              "      <th></th>\n",
              "      <th></th>\n",
              "    </tr>\n",
              "  </thead>\n",
              "  <tbody>\n",
              "    <tr>\n",
              "      <th>AB de Villiers</th>\n",
              "      <td>635</td>\n",
              "      <td>1421</td>\n",
              "      <td>223.779528</td>\n",
              "    </tr>\n",
              "    <tr>\n",
              "      <th>V Kohli</th>\n",
              "      <td>511</td>\n",
              "      <td>991</td>\n",
              "      <td>193.933464</td>\n",
              "    </tr>\n",
              "    <tr>\n",
              "      <th>AD Russell</th>\n",
              "      <td>441</td>\n",
              "      <td>854</td>\n",
              "      <td>193.650794</td>\n",
              "    </tr>\n",
              "    <tr>\n",
              "      <th>CH Gayle</th>\n",
              "      <td>209</td>\n",
              "      <td>404</td>\n",
              "      <td>193.301435</td>\n",
              "    </tr>\n",
              "    <tr>\n",
              "      <th>RR Pant</th>\n",
              "      <td>278</td>\n",
              "      <td>534</td>\n",
              "      <td>192.086331</td>\n",
              "    </tr>\n",
              "  </tbody>\n",
              "</table>\n",
              "</div>\n",
              "      <button class=\"colab-df-convert\" onclick=\"convertToInteractive('df-643448a6-f7ff-4b0f-a7bd-82398718ec02')\"\n",
              "              title=\"Convert this dataframe to an interactive table.\"\n",
              "              style=\"display:none;\">\n",
              "        \n",
              "  <svg xmlns=\"http://www.w3.org/2000/svg\" height=\"24px\"viewBox=\"0 0 24 24\"\n",
              "       width=\"24px\">\n",
              "    <path d=\"M0 0h24v24H0V0z\" fill=\"none\"/>\n",
              "    <path d=\"M18.56 5.44l.94 2.06.94-2.06 2.06-.94-2.06-.94-.94-2.06-.94 2.06-2.06.94zm-11 1L8.5 8.5l.94-2.06 2.06-.94-2.06-.94L8.5 2.5l-.94 2.06-2.06.94zm10 10l.94 2.06.94-2.06 2.06-.94-2.06-.94-.94-2.06-.94 2.06-2.06.94z\"/><path d=\"M17.41 7.96l-1.37-1.37c-.4-.4-.92-.59-1.43-.59-.52 0-1.04.2-1.43.59L10.3 9.45l-7.72 7.72c-.78.78-.78 2.05 0 2.83L4 21.41c.39.39.9.59 1.41.59.51 0 1.02-.2 1.41-.59l7.78-7.78 2.81-2.81c.8-.78.8-2.07 0-2.86zM5.41 20L4 18.59l7.72-7.72 1.47 1.35L5.41 20z\"/>\n",
              "  </svg>\n",
              "      </button>\n",
              "      \n",
              "  <style>\n",
              "    .colab-df-container {\n",
              "      display:flex;\n",
              "      flex-wrap:wrap;\n",
              "      gap: 12px;\n",
              "    }\n",
              "\n",
              "    .colab-df-convert {\n",
              "      background-color: #E8F0FE;\n",
              "      border: none;\n",
              "      border-radius: 50%;\n",
              "      cursor: pointer;\n",
              "      display: none;\n",
              "      fill: #1967D2;\n",
              "      height: 32px;\n",
              "      padding: 0 0 0 0;\n",
              "      width: 32px;\n",
              "    }\n",
              "\n",
              "    .colab-df-convert:hover {\n",
              "      background-color: #E2EBFA;\n",
              "      box-shadow: 0px 1px 2px rgba(60, 64, 67, 0.3), 0px 1px 3px 1px rgba(60, 64, 67, 0.15);\n",
              "      fill: #174EA6;\n",
              "    }\n",
              "\n",
              "    [theme=dark] .colab-df-convert {\n",
              "      background-color: #3B4455;\n",
              "      fill: #D2E3FC;\n",
              "    }\n",
              "\n",
              "    [theme=dark] .colab-df-convert:hover {\n",
              "      background-color: #434B5C;\n",
              "      box-shadow: 0px 1px 3px 1px rgba(0, 0, 0, 0.15);\n",
              "      filter: drop-shadow(0px 1px 2px rgba(0, 0, 0, 0.3));\n",
              "      fill: #FFFFFF;\n",
              "    }\n",
              "  </style>\n",
              "\n",
              "      <script>\n",
              "        const buttonEl =\n",
              "          document.querySelector('#df-643448a6-f7ff-4b0f-a7bd-82398718ec02 button.colab-df-convert');\n",
              "        buttonEl.style.display =\n",
              "          google.colab.kernel.accessAllowed ? 'block' : 'none';\n",
              "\n",
              "        async function convertToInteractive(key) {\n",
              "          const element = document.querySelector('#df-643448a6-f7ff-4b0f-a7bd-82398718ec02');\n",
              "          const dataTable =\n",
              "            await google.colab.kernel.invokeFunction('convertToInteractive',\n",
              "                                                     [key], {});\n",
              "          if (!dataTable) return;\n",
              "\n",
              "          const docLinkHtml = 'Like what you see? Visit the ' +\n",
              "            '<a target=\"_blank\" href=https://colab.research.google.com/notebooks/data_table.ipynb>data table notebook</a>'\n",
              "            + ' to learn more about interactive tables.';\n",
              "          element.innerHTML = '';\n",
              "          dataTable['output_type'] = 'display_data';\n",
              "          await google.colab.output.renderOutput(dataTable, element);\n",
              "          const docLink = document.createElement('div');\n",
              "          docLink.innerHTML = docLinkHtml;\n",
              "          element.appendChild(docLink);\n",
              "        }\n",
              "      </script>\n",
              "    </div>\n",
              "  </div>\n",
              "  "
            ]
          },
          "metadata": {},
          "execution_count": 37
        }
      ]
    },
    {
      "cell_type": "markdown",
      "source": [
        "Q21) top 10 batsman, and top 10 bowlers with max number of wickets and combine them and make a heatmap which tells which top batsman has hitten most runs against a top bowler"
      ],
      "metadata": {
        "id": "Mw7buVSRMN2b"
      }
    },
    {
      "cell_type": "code",
      "source": [
        "#get a list of top batsmans and top bowlers\n",
        "top_batsmans=merged_df.groupby('batter')['batsman_run'].sum().sort_values(ascending=False).head(10).index\n",
        "top_bowlers=merged_df.groupby('bowler')['player_out'].count().sort_values(ascending=False).head(10).index"
      ],
      "metadata": {
        "id": "Te_3MUunnvck"
      },
      "execution_count": 38,
      "outputs": []
    },
    {
      "cell_type": "code",
      "source": [
        "#filtered data set containing top batsman and top bowlers\n",
        "top_players=merged_df[merged_df['batter'].isin(top_batsmans) & merged_df['bowler'].isin(top_bowlers)]\n",
        "top_players=top_players.pivot_table(index='batter', columns='bowler', values='batsman_run', aggfunc='sum')\n",
        "top_players"
      ],
      "metadata": {
        "colab": {
          "base_uri": "https://localhost:8080/",
          "height": 394
        },
        "id": "Y90GaPojO4NK",
        "outputId": "d42fd6fc-ff43-4c6e-bc94-23bd318dc64f"
      },
      "execution_count": 39,
      "outputs": [
        {
          "output_type": "execute_result",
          "data": {
            "text/plain": [
              "bowler          A Mishra  B Kumar  DJ Bravo  Harbhajan Singh  JJ Bumrah  PP Chawla  R Ashwin  SL Malinga  SP Narine  YS Chahal\n",
              "batter                                                                                                                        \n",
              "AB de Villiers      40.0     68.0      72.0            110.0      131.0       53.0      69.0       124.0       53.0        NaN\n",
              "CH Gayle            67.0    131.0      60.0            102.0       37.0      116.0      53.0        57.0       65.0       28.0\n",
              "DA Warner           52.0     17.0      53.0            113.0       54.0       98.0     105.0        74.0      176.0      145.0\n",
              "KD Karthik          80.0     74.0      49.0             13.0       61.0       56.0      76.0        12.0       41.0       42.0\n",
              "MS Dhoni            50.0     94.0      55.0             47.0       60.0       82.0      31.0        89.0       39.0       97.0\n",
              "RG Sharma           87.0     65.0      82.0             34.0        NaN      146.0     105.0         4.0      137.0       39.0\n",
              "RV Uthappa          84.0     86.0      32.0             77.0       54.0       43.0     123.0        76.0       18.0       44.0\n",
              "S Dhawan            39.0     50.0     132.0            147.0      105.0       92.0      71.0        85.0       85.0       73.0\n",
              "SK Raina           122.0     79.0      55.0            132.0       50.0      175.0      54.0        71.0      118.0       99.0\n",
              "V Kohli            158.0     75.0     157.0             87.0      145.0      123.0     160.0        34.0      101.0        1.0"
            ],
            "text/html": [
              "\n",
              "  <div id=\"df-7b9ea67f-ec87-4b02-80ed-700071e7c5f5\">\n",
              "    <div class=\"colab-df-container\">\n",
              "      <div>\n",
              "<style scoped>\n",
              "    .dataframe tbody tr th:only-of-type {\n",
              "        vertical-align: middle;\n",
              "    }\n",
              "\n",
              "    .dataframe tbody tr th {\n",
              "        vertical-align: top;\n",
              "    }\n",
              "\n",
              "    .dataframe thead th {\n",
              "        text-align: right;\n",
              "    }\n",
              "</style>\n",
              "<table border=\"1\" class=\"dataframe\">\n",
              "  <thead>\n",
              "    <tr style=\"text-align: right;\">\n",
              "      <th>bowler</th>\n",
              "      <th>A Mishra</th>\n",
              "      <th>B Kumar</th>\n",
              "      <th>DJ Bravo</th>\n",
              "      <th>Harbhajan Singh</th>\n",
              "      <th>JJ Bumrah</th>\n",
              "      <th>PP Chawla</th>\n",
              "      <th>R Ashwin</th>\n",
              "      <th>SL Malinga</th>\n",
              "      <th>SP Narine</th>\n",
              "      <th>YS Chahal</th>\n",
              "    </tr>\n",
              "    <tr>\n",
              "      <th>batter</th>\n",
              "      <th></th>\n",
              "      <th></th>\n",
              "      <th></th>\n",
              "      <th></th>\n",
              "      <th></th>\n",
              "      <th></th>\n",
              "      <th></th>\n",
              "      <th></th>\n",
              "      <th></th>\n",
              "      <th></th>\n",
              "    </tr>\n",
              "  </thead>\n",
              "  <tbody>\n",
              "    <tr>\n",
              "      <th>AB de Villiers</th>\n",
              "      <td>40.0</td>\n",
              "      <td>68.0</td>\n",
              "      <td>72.0</td>\n",
              "      <td>110.0</td>\n",
              "      <td>131.0</td>\n",
              "      <td>53.0</td>\n",
              "      <td>69.0</td>\n",
              "      <td>124.0</td>\n",
              "      <td>53.0</td>\n",
              "      <td>NaN</td>\n",
              "    </tr>\n",
              "    <tr>\n",
              "      <th>CH Gayle</th>\n",
              "      <td>67.0</td>\n",
              "      <td>131.0</td>\n",
              "      <td>60.0</td>\n",
              "      <td>102.0</td>\n",
              "      <td>37.0</td>\n",
              "      <td>116.0</td>\n",
              "      <td>53.0</td>\n",
              "      <td>57.0</td>\n",
              "      <td>65.0</td>\n",
              "      <td>28.0</td>\n",
              "    </tr>\n",
              "    <tr>\n",
              "      <th>DA Warner</th>\n",
              "      <td>52.0</td>\n",
              "      <td>17.0</td>\n",
              "      <td>53.0</td>\n",
              "      <td>113.0</td>\n",
              "      <td>54.0</td>\n",
              "      <td>98.0</td>\n",
              "      <td>105.0</td>\n",
              "      <td>74.0</td>\n",
              "      <td>176.0</td>\n",
              "      <td>145.0</td>\n",
              "    </tr>\n",
              "    <tr>\n",
              "      <th>KD Karthik</th>\n",
              "      <td>80.0</td>\n",
              "      <td>74.0</td>\n",
              "      <td>49.0</td>\n",
              "      <td>13.0</td>\n",
              "      <td>61.0</td>\n",
              "      <td>56.0</td>\n",
              "      <td>76.0</td>\n",
              "      <td>12.0</td>\n",
              "      <td>41.0</td>\n",
              "      <td>42.0</td>\n",
              "    </tr>\n",
              "    <tr>\n",
              "      <th>MS Dhoni</th>\n",
              "      <td>50.0</td>\n",
              "      <td>94.0</td>\n",
              "      <td>55.0</td>\n",
              "      <td>47.0</td>\n",
              "      <td>60.0</td>\n",
              "      <td>82.0</td>\n",
              "      <td>31.0</td>\n",
              "      <td>89.0</td>\n",
              "      <td>39.0</td>\n",
              "      <td>97.0</td>\n",
              "    </tr>\n",
              "    <tr>\n",
              "      <th>RG Sharma</th>\n",
              "      <td>87.0</td>\n",
              "      <td>65.0</td>\n",
              "      <td>82.0</td>\n",
              "      <td>34.0</td>\n",
              "      <td>NaN</td>\n",
              "      <td>146.0</td>\n",
              "      <td>105.0</td>\n",
              "      <td>4.0</td>\n",
              "      <td>137.0</td>\n",
              "      <td>39.0</td>\n",
              "    </tr>\n",
              "    <tr>\n",
              "      <th>RV Uthappa</th>\n",
              "      <td>84.0</td>\n",
              "      <td>86.0</td>\n",
              "      <td>32.0</td>\n",
              "      <td>77.0</td>\n",
              "      <td>54.0</td>\n",
              "      <td>43.0</td>\n",
              "      <td>123.0</td>\n",
              "      <td>76.0</td>\n",
              "      <td>18.0</td>\n",
              "      <td>44.0</td>\n",
              "    </tr>\n",
              "    <tr>\n",
              "      <th>S Dhawan</th>\n",
              "      <td>39.0</td>\n",
              "      <td>50.0</td>\n",
              "      <td>132.0</td>\n",
              "      <td>147.0</td>\n",
              "      <td>105.0</td>\n",
              "      <td>92.0</td>\n",
              "      <td>71.0</td>\n",
              "      <td>85.0</td>\n",
              "      <td>85.0</td>\n",
              "      <td>73.0</td>\n",
              "    </tr>\n",
              "    <tr>\n",
              "      <th>SK Raina</th>\n",
              "      <td>122.0</td>\n",
              "      <td>79.0</td>\n",
              "      <td>55.0</td>\n",
              "      <td>132.0</td>\n",
              "      <td>50.0</td>\n",
              "      <td>175.0</td>\n",
              "      <td>54.0</td>\n",
              "      <td>71.0</td>\n",
              "      <td>118.0</td>\n",
              "      <td>99.0</td>\n",
              "    </tr>\n",
              "    <tr>\n",
              "      <th>V Kohli</th>\n",
              "      <td>158.0</td>\n",
              "      <td>75.0</td>\n",
              "      <td>157.0</td>\n",
              "      <td>87.0</td>\n",
              "      <td>145.0</td>\n",
              "      <td>123.0</td>\n",
              "      <td>160.0</td>\n",
              "      <td>34.0</td>\n",
              "      <td>101.0</td>\n",
              "      <td>1.0</td>\n",
              "    </tr>\n",
              "  </tbody>\n",
              "</table>\n",
              "</div>\n",
              "      <button class=\"colab-df-convert\" onclick=\"convertToInteractive('df-7b9ea67f-ec87-4b02-80ed-700071e7c5f5')\"\n",
              "              title=\"Convert this dataframe to an interactive table.\"\n",
              "              style=\"display:none;\">\n",
              "        \n",
              "  <svg xmlns=\"http://www.w3.org/2000/svg\" height=\"24px\"viewBox=\"0 0 24 24\"\n",
              "       width=\"24px\">\n",
              "    <path d=\"M0 0h24v24H0V0z\" fill=\"none\"/>\n",
              "    <path d=\"M18.56 5.44l.94 2.06.94-2.06 2.06-.94-2.06-.94-.94-2.06-.94 2.06-2.06.94zm-11 1L8.5 8.5l.94-2.06 2.06-.94-2.06-.94L8.5 2.5l-.94 2.06-2.06.94zm10 10l.94 2.06.94-2.06 2.06-.94-2.06-.94-.94-2.06-.94 2.06-2.06.94z\"/><path d=\"M17.41 7.96l-1.37-1.37c-.4-.4-.92-.59-1.43-.59-.52 0-1.04.2-1.43.59L10.3 9.45l-7.72 7.72c-.78.78-.78 2.05 0 2.83L4 21.41c.39.39.9.59 1.41.59.51 0 1.02-.2 1.41-.59l7.78-7.78 2.81-2.81c.8-.78.8-2.07 0-2.86zM5.41 20L4 18.59l7.72-7.72 1.47 1.35L5.41 20z\"/>\n",
              "  </svg>\n",
              "      </button>\n",
              "      \n",
              "  <style>\n",
              "    .colab-df-container {\n",
              "      display:flex;\n",
              "      flex-wrap:wrap;\n",
              "      gap: 12px;\n",
              "    }\n",
              "\n",
              "    .colab-df-convert {\n",
              "      background-color: #E8F0FE;\n",
              "      border: none;\n",
              "      border-radius: 50%;\n",
              "      cursor: pointer;\n",
              "      display: none;\n",
              "      fill: #1967D2;\n",
              "      height: 32px;\n",
              "      padding: 0 0 0 0;\n",
              "      width: 32px;\n",
              "    }\n",
              "\n",
              "    .colab-df-convert:hover {\n",
              "      background-color: #E2EBFA;\n",
              "      box-shadow: 0px 1px 2px rgba(60, 64, 67, 0.3), 0px 1px 3px 1px rgba(60, 64, 67, 0.15);\n",
              "      fill: #174EA6;\n",
              "    }\n",
              "\n",
              "    [theme=dark] .colab-df-convert {\n",
              "      background-color: #3B4455;\n",
              "      fill: #D2E3FC;\n",
              "    }\n",
              "\n",
              "    [theme=dark] .colab-df-convert:hover {\n",
              "      background-color: #434B5C;\n",
              "      box-shadow: 0px 1px 3px 1px rgba(0, 0, 0, 0.15);\n",
              "      filter: drop-shadow(0px 1px 2px rgba(0, 0, 0, 0.3));\n",
              "      fill: #FFFFFF;\n",
              "    }\n",
              "  </style>\n",
              "\n",
              "      <script>\n",
              "        const buttonEl =\n",
              "          document.querySelector('#df-7b9ea67f-ec87-4b02-80ed-700071e7c5f5 button.colab-df-convert');\n",
              "        buttonEl.style.display =\n",
              "          google.colab.kernel.accessAllowed ? 'block' : 'none';\n",
              "\n",
              "        async function convertToInteractive(key) {\n",
              "          const element = document.querySelector('#df-7b9ea67f-ec87-4b02-80ed-700071e7c5f5');\n",
              "          const dataTable =\n",
              "            await google.colab.kernel.invokeFunction('convertToInteractive',\n",
              "                                                     [key], {});\n",
              "          if (!dataTable) return;\n",
              "\n",
              "          const docLinkHtml = 'Like what you see? Visit the ' +\n",
              "            '<a target=\"_blank\" href=https://colab.research.google.com/notebooks/data_table.ipynb>data table notebook</a>'\n",
              "            + ' to learn more about interactive tables.';\n",
              "          element.innerHTML = '';\n",
              "          dataTable['output_type'] = 'display_data';\n",
              "          await google.colab.output.renderOutput(dataTable, element);\n",
              "          const docLink = document.createElement('div');\n",
              "          docLink.innerHTML = docLinkHtml;\n",
              "          element.appendChild(docLink);\n",
              "        }\n",
              "      </script>\n",
              "    </div>\n",
              "  </div>\n",
              "  "
            ]
          },
          "metadata": {},
          "execution_count": 39
        }
      ]
    },
    {
      "cell_type": "code",
      "source": [
        "#feeling nan values with mean score of batsman using apply function\n",
        "top_players=top_players.apply(lambda row:row.fillna(round(row.mean(),2)))\n",
        "top_players"
      ],
      "metadata": {
        "colab": {
          "base_uri": "https://localhost:8080/",
          "height": 394
        },
        "id": "cyROBLtdOm5c",
        "outputId": "d7d8e690-ac35-43f6-c7a6-aea906eacbdc"
      },
      "execution_count": 40,
      "outputs": [
        {
          "output_type": "execute_result",
          "data": {
            "text/plain": [
              "bowler          A Mishra  B Kumar  DJ Bravo  Harbhajan Singh  JJ Bumrah  PP Chawla  R Ashwin  SL Malinga  SP Narine  YS Chahal\n",
              "batter                                                                                                                        \n",
              "AB de Villiers      40.0     68.0      72.0            110.0     131.00       53.0      69.0       124.0       53.0      63.11\n",
              "CH Gayle            67.0    131.0      60.0            102.0      37.00      116.0      53.0        57.0       65.0      28.00\n",
              "DA Warner           52.0     17.0      53.0            113.0      54.00       98.0     105.0        74.0      176.0     145.00\n",
              "KD Karthik          80.0     74.0      49.0             13.0      61.00       56.0      76.0        12.0       41.0      42.00\n",
              "MS Dhoni            50.0     94.0      55.0             47.0      60.00       82.0      31.0        89.0       39.0      97.00\n",
              "RG Sharma           87.0     65.0      82.0             34.0      77.44      146.0     105.0         4.0      137.0      39.00\n",
              "RV Uthappa          84.0     86.0      32.0             77.0      54.00       43.0     123.0        76.0       18.0      44.00\n",
              "S Dhawan            39.0     50.0     132.0            147.0     105.00       92.0      71.0        85.0       85.0      73.00\n",
              "SK Raina           122.0     79.0      55.0            132.0      50.00      175.0      54.0        71.0      118.0      99.00\n",
              "V Kohli            158.0     75.0     157.0             87.0     145.00      123.0     160.0        34.0      101.0       1.00"
            ],
            "text/html": [
              "\n",
              "  <div id=\"df-ad834b81-5ddb-47e1-9e59-1bf7b3073a30\">\n",
              "    <div class=\"colab-df-container\">\n",
              "      <div>\n",
              "<style scoped>\n",
              "    .dataframe tbody tr th:only-of-type {\n",
              "        vertical-align: middle;\n",
              "    }\n",
              "\n",
              "    .dataframe tbody tr th {\n",
              "        vertical-align: top;\n",
              "    }\n",
              "\n",
              "    .dataframe thead th {\n",
              "        text-align: right;\n",
              "    }\n",
              "</style>\n",
              "<table border=\"1\" class=\"dataframe\">\n",
              "  <thead>\n",
              "    <tr style=\"text-align: right;\">\n",
              "      <th>bowler</th>\n",
              "      <th>A Mishra</th>\n",
              "      <th>B Kumar</th>\n",
              "      <th>DJ Bravo</th>\n",
              "      <th>Harbhajan Singh</th>\n",
              "      <th>JJ Bumrah</th>\n",
              "      <th>PP Chawla</th>\n",
              "      <th>R Ashwin</th>\n",
              "      <th>SL Malinga</th>\n",
              "      <th>SP Narine</th>\n",
              "      <th>YS Chahal</th>\n",
              "    </tr>\n",
              "    <tr>\n",
              "      <th>batter</th>\n",
              "      <th></th>\n",
              "      <th></th>\n",
              "      <th></th>\n",
              "      <th></th>\n",
              "      <th></th>\n",
              "      <th></th>\n",
              "      <th></th>\n",
              "      <th></th>\n",
              "      <th></th>\n",
              "      <th></th>\n",
              "    </tr>\n",
              "  </thead>\n",
              "  <tbody>\n",
              "    <tr>\n",
              "      <th>AB de Villiers</th>\n",
              "      <td>40.0</td>\n",
              "      <td>68.0</td>\n",
              "      <td>72.0</td>\n",
              "      <td>110.0</td>\n",
              "      <td>131.00</td>\n",
              "      <td>53.0</td>\n",
              "      <td>69.0</td>\n",
              "      <td>124.0</td>\n",
              "      <td>53.0</td>\n",
              "      <td>63.11</td>\n",
              "    </tr>\n",
              "    <tr>\n",
              "      <th>CH Gayle</th>\n",
              "      <td>67.0</td>\n",
              "      <td>131.0</td>\n",
              "      <td>60.0</td>\n",
              "      <td>102.0</td>\n",
              "      <td>37.00</td>\n",
              "      <td>116.0</td>\n",
              "      <td>53.0</td>\n",
              "      <td>57.0</td>\n",
              "      <td>65.0</td>\n",
              "      <td>28.00</td>\n",
              "    </tr>\n",
              "    <tr>\n",
              "      <th>DA Warner</th>\n",
              "      <td>52.0</td>\n",
              "      <td>17.0</td>\n",
              "      <td>53.0</td>\n",
              "      <td>113.0</td>\n",
              "      <td>54.00</td>\n",
              "      <td>98.0</td>\n",
              "      <td>105.0</td>\n",
              "      <td>74.0</td>\n",
              "      <td>176.0</td>\n",
              "      <td>145.00</td>\n",
              "    </tr>\n",
              "    <tr>\n",
              "      <th>KD Karthik</th>\n",
              "      <td>80.0</td>\n",
              "      <td>74.0</td>\n",
              "      <td>49.0</td>\n",
              "      <td>13.0</td>\n",
              "      <td>61.00</td>\n",
              "      <td>56.0</td>\n",
              "      <td>76.0</td>\n",
              "      <td>12.0</td>\n",
              "      <td>41.0</td>\n",
              "      <td>42.00</td>\n",
              "    </tr>\n",
              "    <tr>\n",
              "      <th>MS Dhoni</th>\n",
              "      <td>50.0</td>\n",
              "      <td>94.0</td>\n",
              "      <td>55.0</td>\n",
              "      <td>47.0</td>\n",
              "      <td>60.00</td>\n",
              "      <td>82.0</td>\n",
              "      <td>31.0</td>\n",
              "      <td>89.0</td>\n",
              "      <td>39.0</td>\n",
              "      <td>97.00</td>\n",
              "    </tr>\n",
              "    <tr>\n",
              "      <th>RG Sharma</th>\n",
              "      <td>87.0</td>\n",
              "      <td>65.0</td>\n",
              "      <td>82.0</td>\n",
              "      <td>34.0</td>\n",
              "      <td>77.44</td>\n",
              "      <td>146.0</td>\n",
              "      <td>105.0</td>\n",
              "      <td>4.0</td>\n",
              "      <td>137.0</td>\n",
              "      <td>39.00</td>\n",
              "    </tr>\n",
              "    <tr>\n",
              "      <th>RV Uthappa</th>\n",
              "      <td>84.0</td>\n",
              "      <td>86.0</td>\n",
              "      <td>32.0</td>\n",
              "      <td>77.0</td>\n",
              "      <td>54.00</td>\n",
              "      <td>43.0</td>\n",
              "      <td>123.0</td>\n",
              "      <td>76.0</td>\n",
              "      <td>18.0</td>\n",
              "      <td>44.00</td>\n",
              "    </tr>\n",
              "    <tr>\n",
              "      <th>S Dhawan</th>\n",
              "      <td>39.0</td>\n",
              "      <td>50.0</td>\n",
              "      <td>132.0</td>\n",
              "      <td>147.0</td>\n",
              "      <td>105.00</td>\n",
              "      <td>92.0</td>\n",
              "      <td>71.0</td>\n",
              "      <td>85.0</td>\n",
              "      <td>85.0</td>\n",
              "      <td>73.00</td>\n",
              "    </tr>\n",
              "    <tr>\n",
              "      <th>SK Raina</th>\n",
              "      <td>122.0</td>\n",
              "      <td>79.0</td>\n",
              "      <td>55.0</td>\n",
              "      <td>132.0</td>\n",
              "      <td>50.00</td>\n",
              "      <td>175.0</td>\n",
              "      <td>54.0</td>\n",
              "      <td>71.0</td>\n",
              "      <td>118.0</td>\n",
              "      <td>99.00</td>\n",
              "    </tr>\n",
              "    <tr>\n",
              "      <th>V Kohli</th>\n",
              "      <td>158.0</td>\n",
              "      <td>75.0</td>\n",
              "      <td>157.0</td>\n",
              "      <td>87.0</td>\n",
              "      <td>145.00</td>\n",
              "      <td>123.0</td>\n",
              "      <td>160.0</td>\n",
              "      <td>34.0</td>\n",
              "      <td>101.0</td>\n",
              "      <td>1.00</td>\n",
              "    </tr>\n",
              "  </tbody>\n",
              "</table>\n",
              "</div>\n",
              "      <button class=\"colab-df-convert\" onclick=\"convertToInteractive('df-ad834b81-5ddb-47e1-9e59-1bf7b3073a30')\"\n",
              "              title=\"Convert this dataframe to an interactive table.\"\n",
              "              style=\"display:none;\">\n",
              "        \n",
              "  <svg xmlns=\"http://www.w3.org/2000/svg\" height=\"24px\"viewBox=\"0 0 24 24\"\n",
              "       width=\"24px\">\n",
              "    <path d=\"M0 0h24v24H0V0z\" fill=\"none\"/>\n",
              "    <path d=\"M18.56 5.44l.94 2.06.94-2.06 2.06-.94-2.06-.94-.94-2.06-.94 2.06-2.06.94zm-11 1L8.5 8.5l.94-2.06 2.06-.94-2.06-.94L8.5 2.5l-.94 2.06-2.06.94zm10 10l.94 2.06.94-2.06 2.06-.94-2.06-.94-.94-2.06-.94 2.06-2.06.94z\"/><path d=\"M17.41 7.96l-1.37-1.37c-.4-.4-.92-.59-1.43-.59-.52 0-1.04.2-1.43.59L10.3 9.45l-7.72 7.72c-.78.78-.78 2.05 0 2.83L4 21.41c.39.39.9.59 1.41.59.51 0 1.02-.2 1.41-.59l7.78-7.78 2.81-2.81c.8-.78.8-2.07 0-2.86zM5.41 20L4 18.59l7.72-7.72 1.47 1.35L5.41 20z\"/>\n",
              "  </svg>\n",
              "      </button>\n",
              "      \n",
              "  <style>\n",
              "    .colab-df-container {\n",
              "      display:flex;\n",
              "      flex-wrap:wrap;\n",
              "      gap: 12px;\n",
              "    }\n",
              "\n",
              "    .colab-df-convert {\n",
              "      background-color: #E8F0FE;\n",
              "      border: none;\n",
              "      border-radius: 50%;\n",
              "      cursor: pointer;\n",
              "      display: none;\n",
              "      fill: #1967D2;\n",
              "      height: 32px;\n",
              "      padding: 0 0 0 0;\n",
              "      width: 32px;\n",
              "    }\n",
              "\n",
              "    .colab-df-convert:hover {\n",
              "      background-color: #E2EBFA;\n",
              "      box-shadow: 0px 1px 2px rgba(60, 64, 67, 0.3), 0px 1px 3px 1px rgba(60, 64, 67, 0.15);\n",
              "      fill: #174EA6;\n",
              "    }\n",
              "\n",
              "    [theme=dark] .colab-df-convert {\n",
              "      background-color: #3B4455;\n",
              "      fill: #D2E3FC;\n",
              "    }\n",
              "\n",
              "    [theme=dark] .colab-df-convert:hover {\n",
              "      background-color: #434B5C;\n",
              "      box-shadow: 0px 1px 3px 1px rgba(0, 0, 0, 0.15);\n",
              "      filter: drop-shadow(0px 1px 2px rgba(0, 0, 0, 0.3));\n",
              "      fill: #FFFFFF;\n",
              "    }\n",
              "  </style>\n",
              "\n",
              "      <script>\n",
              "        const buttonEl =\n",
              "          document.querySelector('#df-ad834b81-5ddb-47e1-9e59-1bf7b3073a30 button.colab-df-convert');\n",
              "        buttonEl.style.display =\n",
              "          google.colab.kernel.accessAllowed ? 'block' : 'none';\n",
              "\n",
              "        async function convertToInteractive(key) {\n",
              "          const element = document.querySelector('#df-ad834b81-5ddb-47e1-9e59-1bf7b3073a30');\n",
              "          const dataTable =\n",
              "            await google.colab.kernel.invokeFunction('convertToInteractive',\n",
              "                                                     [key], {});\n",
              "          if (!dataTable) return;\n",
              "\n",
              "          const docLinkHtml = 'Like what you see? Visit the ' +\n",
              "            '<a target=\"_blank\" href=https://colab.research.google.com/notebooks/data_table.ipynb>data table notebook</a>'\n",
              "            + ' to learn more about interactive tables.';\n",
              "          element.innerHTML = '';\n",
              "          dataTable['output_type'] = 'display_data';\n",
              "          await google.colab.output.renderOutput(dataTable, element);\n",
              "          const docLink = document.createElement('div');\n",
              "          docLink.innerHTML = docLinkHtml;\n",
              "          element.appendChild(docLink);\n",
              "        }\n",
              "      </script>\n",
              "    </div>\n",
              "  </div>\n",
              "  "
            ]
          },
          "metadata": {},
          "execution_count": 40
        }
      ]
    },
    {
      "cell_type": "code",
      "source": [
        "sns.heatmap(top_players)"
      ],
      "metadata": {
        "colab": {
          "base_uri": "https://localhost:8080/",
          "height": 370
        },
        "id": "P5KunvhqWX2R",
        "outputId": "1fab9003-e446-4e8d-bf7a-c82c9fd3db57"
      },
      "execution_count": 41,
      "outputs": [
        {
          "output_type": "execute_result",
          "data": {
            "text/plain": [
              "<matplotlib.axes._subplots.AxesSubplot at 0x7f07162b6700>"
            ]
          },
          "metadata": {},
          "execution_count": 41
        },
        {
          "output_type": "display_data",
          "data": {
            "text/plain": [
              "<Figure size 432x288 with 2 Axes>"
            ],
            "image/png": "[encoded data removed]"
          },
          "metadata": {
            "needs_background": "light"
          }
        }
      ]
    },
    {
      "cell_type": "code",
      "source": [
        "#player who has score max runs agains top bowler\n",
        "print(\"higest runs scored agains top bowlers are\")\n",
        "print(top_players.max().sort_values(ascending=False))\n",
        "print(\"player who has score max runs agains top bowler:\")\n",
        "top_players[top_players['SP Narine']==176.0].index[0]"
      ],
      "metadata": {
        "colab": {
          "base_uri": "https://localhost:8080/",
          "height": 278
        },
        "id": "gQuiF-E2a1VP",
        "outputId": "e81bbc01-68e9-4d1d-8af1-dfdbea0f2e7b"
      },
      "execution_count": 42,
      "outputs": [
        {
          "output_type": "stream",
          "name": "stdout",
          "text": [
            "higest runs scored agains top bowlers are\n",
            "bowler\n",
            "SP Narine          176.0\n",
            "PP Chawla          175.0\n",
            "R Ashwin           160.0\n",
            "A Mishra           158.0\n",
            "DJ Bravo           157.0\n",
            "Harbhajan Singh    147.0\n",
            "JJ Bumrah          145.0\n",
            "YS Chahal          145.0\n",
            "B Kumar            131.0\n",
            "SL Malinga         124.0\n",
            "dtype: float64\n",
            "player who has score max runs agains top bowler:\n"
          ]
        },
        {
          "output_type": "execute_result",
          "data": {
            "text/plain": [
              "'DA Warner'"
            ],
            "application/vnd.google.colaboratory.intrinsic+json": {
              "type": "string"
            }
          },
          "metadata": {},
          "execution_count": 42
        }
      ]
    },
    {
      "cell_type": "markdown",
      "source": [
        "Q22) most economical bowler in death overs\n",
        "Economy rate = runs conceeded / overs bowled\n",
        "Example if a bowler has given 35 runs in 3.1 overs\n",
        "so his overs bowled will be calculated as 3+1/6 = 3.1666\n",
        "and Economy rate would be 35/3.166 = 11.054"
      ],
      "metadata": {
        "id": "QzA2HCctcUMs"
      }
    },
    {
      "cell_type": "code",
      "source": [
        "#filter data based on death over\n",
        "deatho_df=merged_df[merged_df['overs']>15]\n",
        "deatho_df=deatho_df.groupby('bowler').agg({'overs':'count','batsman_run':'sum'}) #grouping bowlers & aggregate overs and runs\n",
        "deatho_df['overs']=deatho_df['overs']/6 #converting number of balls to over\n",
        "deatho_df=deatho_df[deatho_df['overs']>16] #filter bowlers who have bowled more than 100 i.e 16 overs in a death overs\n",
        "deatho_df['economy']=deatho_df['batsman_run']/deatho_df['overs']  #economy rate\n",
        "deatho_df.sort_values('economy',ascending=False).head()"
      ],
      "metadata": {
        "colab": {
          "base_uri": "https://localhost:8080/",
          "height": 238
        },
        "id": "hwHdwOsDbIEb",
        "outputId": "3ff14dc3-cbeb-4636-bd2e-9fff414a9356"
      },
      "execution_count": 43,
      "outputs": [
        {
          "output_type": "execute_result",
          "data": {
            "text/plain": [
              "                  overs  batsman_run    economy\n",
              "bowler                                         \n",
              "TK Curran     16.666667          204  12.240000\n",
              "MP Stoinis    20.833333          251  12.048000\n",
              "HH Pandya     26.666667          292  10.950000\n",
              "Basil Thampi  27.000000          291  10.777778\n",
              "AS Rajpoot    16.166667          174  10.762887"
            ],
            "text/html": [
              "\n",
              "  <div id=\"df-0dbd4f42-b353-4f00-b858-863f19036366\">\n",
              "    <div class=\"colab-df-container\">\n",
              "      <div>\n",
              "<style scoped>\n",
              "    .dataframe tbody tr th:only-of-type {\n",
              "        vertical-align: middle;\n",
              "    }\n",
              "\n",
              "    .dataframe tbody tr th {\n",
              "        vertical-align: top;\n",
              "    }\n",
              "\n",
              "    .dataframe thead th {\n",
              "        text-align: right;\n",
              "    }\n",
              "</style>\n",
              "<table border=\"1\" class=\"dataframe\">\n",
              "  <thead>\n",
              "    <tr style=\"text-align: right;\">\n",
              "      <th></th>\n",
              "      <th>overs</th>\n",
              "      <th>batsman_run</th>\n",
              "      <th>economy</th>\n",
              "    </tr>\n",
              "    <tr>\n",
              "      <th>bowler</th>\n",
              "      <th></th>\n",
              "      <th></th>\n",
              "      <th></th>\n",
              "    </tr>\n",
              "  </thead>\n",
              "  <tbody>\n",
              "    <tr>\n",
              "      <th>TK Curran</th>\n",
              "      <td>16.666667</td>\n",
              "      <td>204</td>\n",
              "      <td>12.240000</td>\n",
              "    </tr>\n",
              "    <tr>\n",
              "      <th>MP Stoinis</th>\n",
              "      <td>20.833333</td>\n",
              "      <td>251</td>\n",
              "      <td>12.048000</td>\n",
              "    </tr>\n",
              "    <tr>\n",
              "      <th>HH Pandya</th>\n",
              "      <td>26.666667</td>\n",
              "      <td>292</td>\n",
              "      <td>10.950000</td>\n",
              "    </tr>\n",
              "    <tr>\n",
              "      <th>Basil Thampi</th>\n",
              "      <td>27.000000</td>\n",
              "      <td>291</td>\n",
              "      <td>10.777778</td>\n",
              "    </tr>\n",
              "    <tr>\n",
              "      <th>AS Rajpoot</th>\n",
              "      <td>16.166667</td>\n",
              "      <td>174</td>\n",
              "      <td>10.762887</td>\n",
              "    </tr>\n",
              "  </tbody>\n",
              "</table>\n",
              "</div>\n",
              "      <button class=\"colab-df-convert\" onclick=\"convertToInteractive('df-0dbd4f42-b353-4f00-b858-863f19036366')\"\n",
              "              title=\"Convert this dataframe to an interactive table.\"\n",
              "              style=\"display:none;\">\n",
              "        \n",
              "  <svg xmlns=\"http://www.w3.org/2000/svg\" height=\"24px\"viewBox=\"0 0 24 24\"\n",
              "       width=\"24px\">\n",
              "    <path d=\"M0 0h24v24H0V0z\" fill=\"none\"/>\n",
              "    <path d=\"M18.56 5.44l.94 2.06.94-2.06 2.06-.94-2.06-.94-.94-2.06-.94 2.06-2.06.94zm-11 1L8.5 8.5l.94-2.06 2.06-.94-2.06-.94L8.5 2.5l-.94 2.06-2.06.94zm10 10l.94 2.06.94-2.06 2.06-.94-2.06-.94-.94-2.06-.94 2.06-2.06.94z\"/><path d=\"M17.41 7.96l-1.37-1.37c-.4-.4-.92-.59-1.43-.59-.52 0-1.04.2-1.43.59L10.3 9.45l-7.72 7.72c-.78.78-.78 2.05 0 2.83L4 21.41c.39.39.9.59 1.41.59.51 0 1.02-.2 1.41-.59l7.78-7.78 2.81-2.81c.8-.78.8-2.07 0-2.86zM5.41 20L4 18.59l7.72-7.72 1.47 1.35L5.41 20z\"/>\n",
              "  </svg>\n",
              "      </button>\n",
              "      \n",
              "  <style>\n",
              "    .colab-df-container {\n",
              "      display:flex;\n",
              "      flex-wrap:wrap;\n",
              "      gap: 12px;\n",
              "    }\n",
              "\n",
              "    .colab-df-convert {\n",
              "      background-color: #E8F0FE;\n",
              "      border: none;\n",
              "      border-radius: 50%;\n",
              "      cursor: pointer;\n",
              "      display: none;\n",
              "      fill: #1967D2;\n",
              "      height: 32px;\n",
              "      padding: 0 0 0 0;\n",
              "      width: 32px;\n",
              "    }\n",
              "\n",
              "    .colab-df-convert:hover {\n",
              "      background-color: #E2EBFA;\n",
              "      box-shadow: 0px 1px 2px rgba(60, 64, 67, 0.3), 0px 1px 3px 1px rgba(60, 64, 67, 0.15);\n",
              "      fill: #174EA6;\n",
              "    }\n",
              "\n",
              "    [theme=dark] .colab-df-convert {\n",
              "      background-color: #3B4455;\n",
              "      fill: #D2E3FC;\n",
              "    }\n",
              "\n",
              "    [theme=dark] .colab-df-convert:hover {\n",
              "      background-color: #434B5C;\n",
              "      box-shadow: 0px 1px 3px 1px rgba(0, 0, 0, 0.15);\n",
              "      filter: drop-shadow(0px 1px 2px rgba(0, 0, 0, 0.3));\n",
              "      fill: #FFFFFF;\n",
              "    }\n",
              "  </style>\n",
              "\n",
              "      <script>\n",
              "        const buttonEl =\n",
              "          document.querySelector('#df-0dbd4f42-b353-4f00-b858-863f19036366 button.colab-df-convert');\n",
              "        buttonEl.style.display =\n",
              "          google.colab.kernel.accessAllowed ? 'block' : 'none';\n",
              "\n",
              "        async function convertToInteractive(key) {\n",
              "          const element = document.querySelector('#df-0dbd4f42-b353-4f00-b858-863f19036366');\n",
              "          const dataTable =\n",
              "            await google.colab.kernel.invokeFunction('convertToInteractive',\n",
              "                                                     [key], {});\n",
              "          if (!dataTable) return;\n",
              "\n",
              "          const docLinkHtml = 'Like what you see? Visit the ' +\n",
              "            '<a target=\"_blank\" href=https://colab.research.google.com/notebooks/data_table.ipynb>data table notebook</a>'\n",
              "            + ' to learn more about interactive tables.';\n",
              "          element.innerHTML = '';\n",
              "          dataTable['output_type'] = 'display_data';\n",
              "          await google.colab.output.renderOutput(dataTable, element);\n",
              "          const docLink = document.createElement('div');\n",
              "          docLink.innerHTML = docLinkHtml;\n",
              "          element.appendChild(docLink);\n",
              "        }\n",
              "      </script>\n",
              "    </div>\n",
              "  </div>\n",
              "  "
            ]
          },
          "metadata": {},
          "execution_count": 43
        }
      ]
    },
    {
      "cell_type": "code",
      "source": [],
      "metadata": {
        "id": "ZeQPTkxzdI1J"
      },
      "execution_count": 43,
      "outputs": []
    }
  ]
}